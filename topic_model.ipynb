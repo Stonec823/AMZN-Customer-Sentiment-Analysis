{
 "cells": [
  {
   "cell_type": "code",
   "execution_count": 12,
   "id": "0e1127ed-af34-490a-a5f1-2a5797b8f271",
   "metadata": {},
   "outputs": [
    {
     "name": "stdout",
     "output_type": "stream",
     "text": [
      "CPU times: user 20.1 s, sys: 1.43 s, total: 21.5 s\n",
      "Wall time: 42.1 s\n"
     ]
    },
    {
     "data": {
      "text/html": [
       "<div>\n",
       "<style scoped>\n",
       "    .dataframe tbody tr th:only-of-type {\n",
       "        vertical-align: middle;\n",
       "    }\n",
       "\n",
       "    .dataframe tbody tr th {\n",
       "        vertical-align: top;\n",
       "    }\n",
       "\n",
       "    .dataframe thead th {\n",
       "        text-align: right;\n",
       "    }\n",
       "</style>\n",
       "<table border=\"1\" class=\"dataframe\">\n",
       "  <thead>\n",
       "    <tr style=\"text-align: right;\">\n",
       "      <th></th>\n",
       "      <th>main_category</th>\n",
       "      <th>title_x</th>\n",
       "      <th>rating</th>\n",
       "      <th>processed_text</th>\n",
       "    </tr>\n",
       "  </thead>\n",
       "  <tbody>\n",
       "    <tr>\n",
       "      <th>0</th>\n",
       "      <td>Amazon Home</td>\n",
       "      <td>jersey seating 2 x Vinyl Air Lift Adjustable S...</td>\n",
       "      <td>5</td>\n",
       "      <td>nice</td>\n",
       "    </tr>\n",
       "    <tr>\n",
       "      <th>1</th>\n",
       "      <td>Amazon Home</td>\n",
       "      <td>jersey seating 2 x Vinyl Air Lift Adjustable S...</td>\n",
       "      <td>5</td>\n",
       "      <td>chair beautiful bought 4 black color stylish c...</td>\n",
       "    </tr>\n",
       "    <tr>\n",
       "      <th>2</th>\n",
       "      <td>Amazon Home</td>\n",
       "      <td>jersey seating 2 x Vinyl Air Lift Adjustable S...</td>\n",
       "      <td>1</td>\n",
       "      <td>horible build quality stool dont lock place si...</td>\n",
       "    </tr>\n",
       "    <tr>\n",
       "      <th>3</th>\n",
       "      <td>Amazon Home</td>\n",
       "      <td>jersey seating 2 x Vinyl Air Lift Adjustable S...</td>\n",
       "      <td>5</td>\n",
       "      <td>great quality especially pricebr br ive swivel...</td>\n",
       "    </tr>\n",
       "    <tr>\n",
       "      <th>4</th>\n",
       "      <td>Amazon Home</td>\n",
       "      <td>jersey seating 2 x Vinyl Air Lift Adjustable S...</td>\n",
       "      <td>5</td>\n",
       "      <td>great price worked perfectly small space</td>\n",
       "    </tr>\n",
       "  </tbody>\n",
       "</table>\n",
       "</div>"
      ],
      "text/plain": [
       "  main_category                                            title_x  rating  \\\n",
       "0   Amazon Home  jersey seating 2 x Vinyl Air Lift Adjustable S...       5   \n",
       "1   Amazon Home  jersey seating 2 x Vinyl Air Lift Adjustable S...       5   \n",
       "2   Amazon Home  jersey seating 2 x Vinyl Air Lift Adjustable S...       1   \n",
       "3   Amazon Home  jersey seating 2 x Vinyl Air Lift Adjustable S...       5   \n",
       "4   Amazon Home  jersey seating 2 x Vinyl Air Lift Adjustable S...       5   \n",
       "\n",
       "                                      processed_text  \n",
       "0                                               nice  \n",
       "1  chair beautiful bought 4 black color stylish c...  \n",
       "2  horible build quality stool dont lock place si...  \n",
       "3  great quality especially pricebr br ive swivel...  \n",
       "4           great price worked perfectly small space  "
      ]
     },
     "execution_count": 12,
     "metadata": {},
     "output_type": "execute_result"
    }
   ],
   "source": [
    "%%time\n",
    "\n",
    "import pandas as pd\n",
    "import gcsfs\n",
    "fs = gcsfs.GCSFileSystem()\n",
    "\n",
    "path = f'gs://amazon-home-and-kitchen/full_train_data_txt_processed.csv'\n",
    "\n",
    "columns_to_read = ['main_category', 'title_x', 'rating', 'processed_text']\n",
    "df = pd.read_csv(path, na_values=['—']\n",
    "                ,usecols=columns_to_read \n",
    "                ,nrows=250000)\n",
    "\n",
    "df.head()\n"
   ]
  },
  {
   "cell_type": "code",
   "execution_count": 13,
   "id": "63dcdf81-5be8-43e5-887d-5f88ca07ff9f",
   "metadata": {
    "tags": []
   },
   "outputs": [
    {
     "data": {
      "text/plain": [
       "(250000, 4)"
      ]
     },
     "execution_count": 13,
     "metadata": {},
     "output_type": "execute_result"
    }
   ],
   "source": [
    "df.shape"
   ]
  },
  {
   "cell_type": "code",
   "execution_count": 14,
   "id": "d9f0da61-6aeb-4e8f-b2db-281e616d3e75",
   "metadata": {
    "tags": []
   },
   "outputs": [],
   "source": [
    "df['review_id'] = df.index \n",
    "df = df.dropna(subset=['processed_text'])"
   ]
  },
  {
   "cell_type": "code",
   "execution_count": 5,
   "id": "4fb060bb-79ed-4496-a28c-8b10908071b3",
   "metadata": {
    "tags": []
   },
   "outputs": [
    {
     "name": "stderr",
     "output_type": "stream",
     "text": [
      "[nltk_data] Downloading package averaged_perceptron_tagger to\n",
      "[nltk_data]     /home/jupyter/nltk_data...\n",
      "[nltk_data]   Package averaged_perceptron_tagger is already up-to-\n",
      "[nltk_data]       date!\n",
      "[nltk_data] Downloading package punkt to /home/jupyter/nltk_data...\n",
      "[nltk_data]   Package punkt is already up-to-date!\n"
     ]
    },
    {
     "data": {
      "text/plain": [
       "True"
      ]
     },
     "execution_count": 5,
     "metadata": {},
     "output_type": "execute_result"
    }
   ],
   "source": [
    "import nltk\n",
    "nltk.download('averaged_perceptron_tagger')\n",
    "nltk.download('punkt') "
   ]
  },
  {
   "cell_type": "code",
   "execution_count": null,
   "id": "c8f7bc1b-657e-4c4e-9ec0-759885ded355",
   "metadata": {},
   "outputs": [],
   "source": []
  },
  {
   "cell_type": "code",
   "execution_count": 15,
   "id": "7db89076-1871-4ce4-b495-6a0fc8c9616f",
   "metadata": {
    "tags": []
   },
   "outputs": [],
   "source": [
    "import warnings\n",
    "warnings.simplefilter(action='ignore', category=pd.errors.SettingWithCopyWarning)\n",
    "\n",
    "import pandas as pd\n",
    "from sklearn.feature_extraction.text import TfidfVectorizer\n",
    "import re\n",
    "from nltk.corpus import stopwords\n",
    "stop_words = set(stopwords.words('english'))\n",
    "\n",
    "def custom_tokenizer(text):\n",
    "        # Remove numbers and unwanted words (like stopwords)\n",
    "    tokens = re.findall(r'\\b[a-zA-Z]+\\b', text.lower())  # Only keep alphabetic words\n",
    "    filtered_tokens = [token for token in tokens if token not in stop_words]\n",
    "    return ' '.join(filtered_tokens)\n",
    "\n",
    "def get_top_words(row):\n",
    "        top_words = row.nlargest(3)  # Get the top 3 words based on TF-IDF score\n",
    "        return top_words.index.tolist() if len(top_words) == 3 else [None, None, None]\n",
    "\n",
    "def get_topics(df):\n",
    "\n",
    "    dfc = df.copy()\n",
    "    # Custom tokenizer function to filter out numbers and stopwords\n",
    "\n",
    "\n",
    "    # Step 1: Preprocess `processed_text` by removing low-quality words\n",
    "    dfc.loc[:, 'filtered_text'] = dfc['processed_text'].apply(custom_tokenizer)\n",
    "\n",
    "    # Step 2: Define the TF-IDF vectorizer and fit it to the filtered text\n",
    "    tfidf_vectorizer = TfidfVectorizer(max_features=5000)\n",
    "    tfidf_matrix = tfidf_vectorizer.fit_transform(dfc['filtered_text'])\n",
    "\n",
    "    # Step 3: Create a DataFrame of the TF-IDF scores\n",
    "    tfidf_df = pd.DataFrame(tfidf_matrix.toarray(), columns=tfidf_vectorizer.get_feature_names_out())\n",
    "\n",
    "    # Step 4: Define a function to get the top 3 words for each review\n",
    "\n",
    "\n",
    "    # Step 5: Apply the function to each row to get the top 3 words\n",
    "    dfc[['topic_1', 'topic_2', 'topic_3']] = tfidf_df.apply(get_top_words, axis=1, result_type=\"expand\")\n",
    "\n",
    "    # Step 6: Filter out rows where any of the top topics are None\n",
    "    # dfc = dfc.dropna(subset=['topic_1', 'topic_2', 'topic_3'])\n",
    "    final_df = dfc[['review_id', 'main_category', 'title_x', 'rating', 'filtered_text', 'topic_1', 'topic_2', 'topic_3']]\n",
    "    \n",
    "    return final_df\n"
   ]
  },
  {
   "cell_type": "code",
   "execution_count": 16,
   "id": "ed76f1b8-a047-45d3-a92b-5a11f6d7c2c3",
   "metadata": {
    "tags": []
   },
   "outputs": [
    {
     "name": "stdout",
     "output_type": "stream",
     "text": [
      "CPU times: user 5min 39s, sys: 13.3 s, total: 5min 52s\n",
      "Wall time: 5min 52s\n"
     ]
    },
    {
     "data": {
      "text/plain": [
       "(249624, 8)"
      ]
     },
     "execution_count": 16,
     "metadata": {},
     "output_type": "execute_result"
    }
   ],
   "source": [
    "%%time\n",
    "\n",
    "final = get_topics(df)\n",
    "final.shape"
   ]
  },
  {
   "cell_type": "code",
   "execution_count": 20,
   "id": "faac5907-0f48-4ed3-9e29-dcb3e489bdc6",
   "metadata": {
    "tags": []
   },
   "outputs": [
    {
     "data": {
      "text/html": [
       "<div>\n",
       "<style scoped>\n",
       "    .dataframe tbody tr th:only-of-type {\n",
       "        vertical-align: middle;\n",
       "    }\n",
       "\n",
       "    .dataframe tbody tr th {\n",
       "        vertical-align: top;\n",
       "    }\n",
       "\n",
       "    .dataframe thead th {\n",
       "        text-align: right;\n",
       "    }\n",
       "</style>\n",
       "<table border=\"1\" class=\"dataframe\">\n",
       "  <thead>\n",
       "    <tr style=\"text-align: right;\">\n",
       "      <th></th>\n",
       "      <th>review_id</th>\n",
       "      <th>main_category</th>\n",
       "      <th>title_x</th>\n",
       "      <th>rating</th>\n",
       "      <th>filtered_text</th>\n",
       "      <th>topic_1</th>\n",
       "      <th>topic_2</th>\n",
       "      <th>topic_3</th>\n",
       "    </tr>\n",
       "  </thead>\n",
       "  <tbody>\n",
       "    <tr>\n",
       "      <th>0</th>\n",
       "      <td>0</td>\n",
       "      <td>Amazon Home</td>\n",
       "      <td>jersey seating 2 x Vinyl Air Lift Adjustable S...</td>\n",
       "      <td>5</td>\n",
       "      <td>nice</td>\n",
       "      <td>nice</td>\n",
       "      <td>aa</td>\n",
       "      <td>aaa</td>\n",
       "    </tr>\n",
       "    <tr>\n",
       "      <th>1</th>\n",
       "      <td>1</td>\n",
       "      <td>Amazon Home</td>\n",
       "      <td>jersey seating 2 x Vinyl Air Lift Adjustable S...</td>\n",
       "      <td>5</td>\n",
       "      <td>chair beautiful bought black color stylish con...</td>\n",
       "      <td>contemporary</td>\n",
       "      <td>stylish</td>\n",
       "      <td>solid</td>\n",
       "    </tr>\n",
       "    <tr>\n",
       "      <th>2</th>\n",
       "      <td>2</td>\n",
       "      <td>Amazon Home</td>\n",
       "      <td>jersey seating 2 x Vinyl Air Lift Adjustable S...</td>\n",
       "      <td>1</td>\n",
       "      <td>horible build quality stool dont lock place si...</td>\n",
       "      <td>sit</td>\n",
       "      <td>full</td>\n",
       "      <td>compress</td>\n",
       "    </tr>\n",
       "    <tr>\n",
       "      <th>3</th>\n",
       "      <td>3</td>\n",
       "      <td>Amazon Home</td>\n",
       "      <td>jersey seating 2 x Vinyl Air Lift Adjustable S...</td>\n",
       "      <td>5</td>\n",
       "      <td>great quality especially pricebr br ive swivel...</td>\n",
       "      <td>swivel</td>\n",
       "      <td>stool</td>\n",
       "      <td>making</td>\n",
       "    </tr>\n",
       "    <tr>\n",
       "      <th>4</th>\n",
       "      <td>4</td>\n",
       "      <td>Amazon Home</td>\n",
       "      <td>jersey seating 2 x Vinyl Air Lift Adjustable S...</td>\n",
       "      <td>5</td>\n",
       "      <td>great price worked perfectly small space</td>\n",
       "      <td>worked</td>\n",
       "      <td>space</td>\n",
       "      <td>perfectly</td>\n",
       "    </tr>\n",
       "  </tbody>\n",
       "</table>\n",
       "</div>"
      ],
      "text/plain": [
       "   review_id main_category                                            title_x  \\\n",
       "0          0   Amazon Home  jersey seating 2 x Vinyl Air Lift Adjustable S...   \n",
       "1          1   Amazon Home  jersey seating 2 x Vinyl Air Lift Adjustable S...   \n",
       "2          2   Amazon Home  jersey seating 2 x Vinyl Air Lift Adjustable S...   \n",
       "3          3   Amazon Home  jersey seating 2 x Vinyl Air Lift Adjustable S...   \n",
       "4          4   Amazon Home  jersey seating 2 x Vinyl Air Lift Adjustable S...   \n",
       "\n",
       "   rating                                      filtered_text       topic_1  \\\n",
       "0       5                                               nice          nice   \n",
       "1       5  chair beautiful bought black color stylish con...  contemporary   \n",
       "2       1  horible build quality stool dont lock place si...           sit   \n",
       "3       5  great quality especially pricebr br ive swivel...        swivel   \n",
       "4       5           great price worked perfectly small space        worked   \n",
       "\n",
       "   topic_2    topic_3  \n",
       "0       aa        aaa  \n",
       "1  stylish      solid  \n",
       "2     full   compress  \n",
       "3    stool     making  \n",
       "4    space  perfectly  "
      ]
     },
     "execution_count": 20,
     "metadata": {},
     "output_type": "execute_result"
    }
   ],
   "source": [
    "final.head()"
   ]
  },
  {
   "cell_type": "code",
   "execution_count": null,
   "id": "bbb8effa-e933-4ec8-aab6-43214b04de59",
   "metadata": {},
   "outputs": [],
   "source": []
  },
  {
   "cell_type": "code",
   "execution_count": 21,
   "id": "fa9aa74d-b352-43bf-90dd-e93d1db8ce04",
   "metadata": {},
   "outputs": [],
   "source": [
    "\n",
    "from google.cloud import storage\n",
    "bucket_name = 'amazon-home-and-kitchen'\n",
    "destination_blob_name = 'topic_2024-11-13.csv'\n",
    "\n",
    "# Save DataFrame as CSV locally first\n",
    "final.to_csv('/tmp/topic_2024-11-13.csv', index=False)\n",
    "\n",
    "# Initialize a GCS client and upload wwthe file\n",
    "client = storage.Client()\n",
    "bucket = client.bucket(bucket_name)\n",
    "blob = bucket.blob(destination_blob_name)\n",
    "blob.upload_from_filename('/tmp/topic_2024-11-13.csv')"
   ]
  },
  {
   "cell_type": "code",
   "execution_count": null,
   "id": "5a4d58a3-2915-45e1-8b26-88e3a7ccd5c4",
   "metadata": {},
   "outputs": [],
   "source": []
  }
 ],
 "metadata": {
  "environment": {
   "kernel": "conda-env-team184-env-team184-env",
   "name": "workbench-notebooks.m125",
   "type": "gcloud",
   "uri": "us-docker.pkg.dev/deeplearning-platform-release/gcr.io/workbench-notebooks:m125"
  },
  "kernelspec": {
   "display_name": "team184 (Local)",
   "language": "python",
   "name": "conda-env-team184-env-team184-env"
  },
  "language_info": {
   "codemirror_mode": {
    "name": "ipython",
    "version": 3
   },
   "file_extension": ".py",
   "mimetype": "text/x-python",
   "name": "python",
   "nbconvert_exporter": "python",
   "pygments_lexer": "ipython3",
   "version": "3.10.15"
  }
 },
 "nbformat": 4,
 "nbformat_minor": 5
}
