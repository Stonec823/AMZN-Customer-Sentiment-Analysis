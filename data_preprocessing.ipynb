{
 "cells": [
  {
   "cell_type": "code",
   "execution_count": 10,
   "id": "96b6b434-106d-46d8-bff6-cbdf000f1c5c",
   "metadata": {
    "tags": []
   },
   "outputs": [],
   "source": [
    "import pandas as pd\n",
    "import gcsfs"
   ]
  },
  {
   "cell_type": "markdown",
   "id": "0d3972f8-9cfc-4779-97d9-17d48478fa11",
   "metadata": {},
   "source": [
    "## Load first 600K rows of Items Metadata"
   ]
  },
  {
   "cell_type": "code",
   "execution_count": 2,
   "id": "fa0edd95-462a-49ca-9189-82323bdc8c83",
   "metadata": {
    "tags": []
   },
   "outputs": [],
   "source": [
    "items_metadata_file_path = 'gs://amazon-home-and-kitchen/meta_Home_and_Kitchen.jsonl'\n",
    "\n",
    "# Initialize GCS filesystem\n",
    "fs = gcsfs.GCSFileSystem()\n",
    "\n",
    "# Open the file from the GCS bucket\n",
    "with fs.open(items_metadata_file_path, 'r') as f:\n",
    "    # Read the JSONL file in chunks to handle large files efficiently\n",
    "    #json_reader = pd.read_json(f, lines=True, chunksize=500000)\n",
    "    \n",
    "    # Read the JSONL file in 600K rows at a time\n",
    "    json_reader = pd.read_json(f, lines=True, chunksize=600000)\n",
    "    \n",
    "    # for i, chunk in enumerate(json_reader):\n",
    "    #     if i == 0:\n",
    "    #         meta_df = chunk\n",
    "    #     else:\n",
    "    #         meta_chunk = chunk\n",
    "    #         meta_df = pd.concat([meta_df, meta_chunk])\n",
    "    \n",
    "    # for i, chunk in enumerate(json_reader):\n",
    "    #     if i == 0:\n",
    "    #         meta_df = chunk\n",
    "    #     elif i > 0 and i <= 3:\n",
    "    #         meta_chunk = chunk\n",
    "    #         meta_df = pd.concat([meta_df, meta_chunk])\n",
    "    #     elif i > 3:\n",
    "    #         break\n",
    "    \n",
    "    ## Optionally, you can concatenate all chunks into a single DataFrame\n",
    "    #full_meta_df = pd.concat(json_reader, ignore_index=True)\n",
    "        \n",
    "    for i, chunk in enumerate(json_reader):\n",
    "        if i == 0:  # You can choose which chunk to process, e.g., the first chunk\n",
    "            meta_df = chunk  # This is the DataFrame for the first chunk\n",
    "            break"
   ]
  },
  {
   "cell_type": "markdown",
   "id": "64fe99b7-714f-4546-b883-29cf89b3c15c",
   "metadata": {},
   "source": [
    "### Check the number of rows in the Items Metadata DataFrame."
   ]
  },
  {
   "cell_type": "code",
   "execution_count": 3,
   "id": "5f48963b-f4f5-4fb5-bdf2-f16b18c6e06a",
   "metadata": {
    "tags": []
   },
   "outputs": [
    {
     "data": {
      "text/plain": [
       "600000"
      ]
     },
     "execution_count": 3,
     "metadata": {},
     "output_type": "execute_result"
    }
   ],
   "source": [
    "len(meta_df)"
   ]
  },
  {
   "cell_type": "markdown",
   "id": "ed37d77f-d0b8-41c3-9ad9-9292c50c07d5",
   "metadata": {},
   "source": [
    "### Display the names of the columns in the Items Metadata DataFrame."
   ]
  },
  {
   "cell_type": "code",
   "execution_count": 4,
   "id": "d07979b5-124b-4045-a101-a20dfdb7060a",
   "metadata": {
    "tags": []
   },
   "outputs": [
    {
     "data": {
      "text/plain": [
       "Index(['main_category', 'title', 'average_rating', 'rating_number', 'features',\n",
       "       'description', 'price', 'images', 'videos', 'store', 'categories',\n",
       "       'details', 'parent_asin', 'bought_together', 'subtitle', 'author'],\n",
       "      dtype='object')"
      ]
     },
     "execution_count": 4,
     "metadata": {},
     "output_type": "execute_result"
    }
   ],
   "source": [
    "meta_df.columns"
   ]
  },
  {
   "cell_type": "code",
   "execution_count": 7,
   "id": "435c0739-4cff-43df-bf13-1192b1d790bf",
   "metadata": {
    "tags": []
   },
   "outputs": [
    {
     "data": {
      "text/plain": [
       "array(['Amazon Home', None, 'Tools & Home Improvement', 'Handmade',\n",
       "       'AMAZON FASHION', 'Office Products', 'Industrial & Scientific',\n",
       "       'Pet Supplies', 'Sports & Outdoors', 'Health & Personal Care',\n",
       "       'All Electronics', 'All Beauty', 'Baby', 'Toys & Games',\n",
       "       'Portable Audio & Accessories', 'Home Audio & Theater',\n",
       "       'Appliances', 'Arts, Crafts & Sewing', 'Musical Instruments',\n",
       "       'Cell Phones & Accessories', 'Grocery', 'Automotive', 'Computers',\n",
       "       'Camera & Photo', 'Video Games', 'Premium Beauty', 'Software',\n",
       "       'Car Electronics', 'Entertainment', 'Amazon Devices',\n",
       "       'Collectible Coins', 'Audible Audiobooks', 'Books', 'Gift Cards',\n",
       "       'Sports Collectibles'], dtype=object)"
      ]
     },
     "execution_count": 7,
     "metadata": {},
     "output_type": "execute_result"
    }
   ],
   "source": [
    "meta_df['main_category'].unique()"
   ]
  },
  {
   "cell_type": "markdown",
   "id": "2fec31c0-e333-4a2f-be13-f8ed4e732a88",
   "metadata": {
    "tags": []
   },
   "source": [
    "### Exclude unneeded columns in the Items Metadata DataFrame and preview the data."
   ]
  },
  {
   "cell_type": "code",
   "execution_count": 4,
   "id": "18ef4541-180a-4746-90cd-327c642a1f1a",
   "metadata": {
    "tags": []
   },
   "outputs": [
    {
     "data": {
      "text/html": [
       "<div>\n",
       "<style scoped>\n",
       "    .dataframe tbody tr th:only-of-type {\n",
       "        vertical-align: middle;\n",
       "    }\n",
       "\n",
       "    .dataframe tbody tr th {\n",
       "        vertical-align: top;\n",
       "    }\n",
       "\n",
       "    .dataframe thead th {\n",
       "        text-align: right;\n",
       "    }\n",
       "</style>\n",
       "<table border=\"1\" class=\"dataframe\">\n",
       "  <thead>\n",
       "    <tr style=\"text-align: right;\">\n",
       "      <th></th>\n",
       "      <th>parent_asin</th>\n",
       "      <th>main_category</th>\n",
       "      <th>title</th>\n",
       "      <th>average_rating</th>\n",
       "      <th>price</th>\n",
       "    </tr>\n",
       "  </thead>\n",
       "  <tbody>\n",
       "    <tr>\n",
       "      <th>0</th>\n",
       "      <td>B07R3DYMH6</td>\n",
       "      <td>Amazon Home</td>\n",
       "      <td>Set of 4 Irish Coffee Glass Mugs Footed 10.5 o...</td>\n",
       "      <td>4.6</td>\n",
       "      <td>24.95</td>\n",
       "    </tr>\n",
       "    <tr>\n",
       "      <th>1</th>\n",
       "      <td>B0BNZ8Q7YT</td>\n",
       "      <td>Amazon Home</td>\n",
       "      <td>Foaming Soap Dispenser Thick Ceramic Foam Hand...</td>\n",
       "      <td>4.4</td>\n",
       "      <td>24.99</td>\n",
       "    </tr>\n",
       "    <tr>\n",
       "      <th>2</th>\n",
       "      <td>B01508WQC6</td>\n",
       "      <td>Amazon Home</td>\n",
       "      <td>Tapestry Trading 558W90 90 in. European Lace T...</td>\n",
       "      <td>5.0</td>\n",
       "      <td>45.64</td>\n",
       "    </tr>\n",
       "    <tr>\n",
       "      <th>3</th>\n",
       "      <td>B00KKU8HTG</td>\n",
       "      <td>Amazon Home</td>\n",
       "      <td>jersey seating 2 x Vinyl Air Lift Adjustable S...</td>\n",
       "      <td>4.3</td>\n",
       "      <td>None</td>\n",
       "    </tr>\n",
       "    <tr>\n",
       "      <th>4</th>\n",
       "      <td>B0B61RJ848</td>\n",
       "      <td>Amazon Home</td>\n",
       "      <td>Chisander 20 Inches Grey with White Super Soft...</td>\n",
       "      <td>4.6</td>\n",
       "      <td>9.99</td>\n",
       "    </tr>\n",
       "  </tbody>\n",
       "</table>\n",
       "</div>"
      ],
      "text/plain": [
       "  parent_asin main_category  \\\n",
       "0  B07R3DYMH6   Amazon Home   \n",
       "1  B0BNZ8Q7YT   Amazon Home   \n",
       "2  B01508WQC6   Amazon Home   \n",
       "3  B00KKU8HTG   Amazon Home   \n",
       "4  B0B61RJ848   Amazon Home   \n",
       "\n",
       "                                               title  average_rating  price  \n",
       "0  Set of 4 Irish Coffee Glass Mugs Footed 10.5 o...             4.6  24.95  \n",
       "1  Foaming Soap Dispenser Thick Ceramic Foam Hand...             4.4  24.99  \n",
       "2  Tapestry Trading 558W90 90 in. European Lace T...             5.0  45.64  \n",
       "3  jersey seating 2 x Vinyl Air Lift Adjustable S...             4.3   None  \n",
       "4  Chisander 20 Inches Grey with White Super Soft...             4.6   9.99  "
      ]
     },
     "execution_count": 4,
     "metadata": {},
     "output_type": "execute_result"
    }
   ],
   "source": [
    "meta_df = meta_df[[\"parent_asin\", \"main_category\", \"title\", \"average_rating\", \"price\"]]\n",
    "meta_df.head()"
   ]
  },
  {
   "cell_type": "markdown",
   "id": "e0ac3c32-adb5-4fbc-b3ea-b7904f939704",
   "metadata": {
    "tags": []
   },
   "source": [
    "## Load User Reviews Train Data"
   ]
  },
  {
   "cell_type": "code",
   "execution_count": 3,
   "id": "20b0fed4-d837-4a34-b7bd-ebf780b7584c",
   "metadata": {},
   "outputs": [],
   "source": [
    "# Set up your GCS file path\n",
    "user_reviews_train_file_path = 'gs://amazon-home-and-kitchen/Home_and_Kitchen_Train.jsonl'\n",
    "\n",
    "# Open the file from the GCS bucket\n",
    "with fs.open(user_reviews_train_file_path, 'r') as f:\n",
    "    # Read the JSONL file in chunks to handle large files efficiently\n",
    "    #json_reader = pd.read_json(f, lines=True, chunksize=1000000)\n",
    "    \n",
    "    # Read the JSONL file in 500K rows at a time\n",
    "    json_reader = pd.read_json(f, lines=True, chunksize=500000)\n",
    "    \n",
    "    ## Optionally, you can concatenate all chunks into a single DataFrame\n",
    "    #full_reviews_df = pd.concat(json_reader, ignore_index=True)\n",
    "    \n",
    "    for i, chunk in enumerate(json_reader):\n",
    "        if i == 0:\n",
    "            reviews_df = chunk\n",
    "        else:\n",
    "            reviews_chunk = chunk\n",
    "            reviews_df = pd.concat([reviews_df, reviews_chunk], ignore_index=True)\n",
    "\n",
    "    # for i, chunk in enumerate(json_reader):\n",
    "    #     if i == 0:  # You can choose which chunk to process, e.g., the first chunk\n",
    "    #         reviews_df = chunk  # This is the DataFrame for the first chunk\n",
    "    #         break\n",
    "\n",
    "# Display the first few rows of the DataFrame\n",
    "#print(reviews_df.head())\n",
    "#print(reviews_df.columns)"
   ]
  },
  {
   "cell_type": "markdown",
   "id": "edbd19ec-a63a-485e-8b98-6f2fb920df02",
   "metadata": {},
   "source": [
    "### Check the number of rows in the User Reviews DataFrame."
   ]
  },
  {
   "cell_type": "code",
   "execution_count": 4,
   "id": "c7371fcc-1bbe-4b03-96fd-5de43ad42356",
   "metadata": {
    "tags": []
   },
   "outputs": [
    {
     "data": {
      "text/plain": [
       "6740994"
      ]
     },
     "execution_count": 4,
     "metadata": {},
     "output_type": "execute_result"
    }
   ],
   "source": [
    "len(reviews_df)"
   ]
  },
  {
   "cell_type": "markdown",
   "id": "377ef0df-8616-4ec9-8171-06c684f53545",
   "metadata": {},
   "source": [
    "### Display the names of the columns in the User Reviews DataFrame."
   ]
  },
  {
   "cell_type": "code",
   "execution_count": 7,
   "id": "2c4c1a87-fc89-4584-a830-7c589dbe1c6f",
   "metadata": {
    "tags": []
   },
   "outputs": [
    {
     "data": {
      "text/plain": [
       "Index(['rating', 'title', 'text', 'images', 'asin', 'parent_asin', 'user_id',\n",
       "       'timestamp', 'helpful_vote', 'verified_purchase'],\n",
       "      dtype='object')"
      ]
     },
     "execution_count": 7,
     "metadata": {},
     "output_type": "execute_result"
    }
   ],
   "source": [
    "reviews_df.columns"
   ]
  },
  {
   "cell_type": "markdown",
   "id": "015d6e30-ceb7-46d6-b177-fa94b948944a",
   "metadata": {},
   "source": [
    "### Exclude unneeded columns in the User Reviews DataFrame and preview the data."
   ]
  },
  {
   "cell_type": "code",
   "execution_count": 8,
   "id": "9aa16c3f-d461-4727-9fcc-f6636b99c6c8",
   "metadata": {
    "tags": []
   },
   "outputs": [
    {
     "data": {
      "text/html": [
       "<div>\n",
       "<style scoped>\n",
       "    .dataframe tbody tr th:only-of-type {\n",
       "        vertical-align: middle;\n",
       "    }\n",
       "\n",
       "    .dataframe tbody tr th {\n",
       "        vertical-align: top;\n",
       "    }\n",
       "\n",
       "    .dataframe thead th {\n",
       "        text-align: right;\n",
       "    }\n",
       "</style>\n",
       "<table border=\"1\" class=\"dataframe\">\n",
       "  <thead>\n",
       "    <tr style=\"text-align: right;\">\n",
       "      <th></th>\n",
       "      <th>parent_asin</th>\n",
       "      <th>verified_purchase</th>\n",
       "      <th>helpful_vote</th>\n",
       "      <th>user_id</th>\n",
       "      <th>text</th>\n",
       "    </tr>\n",
       "  </thead>\n",
       "  <tbody>\n",
       "    <tr>\n",
       "      <th>0</th>\n",
       "      <td>B09XWYG6X1</td>\n",
       "      <td>True</td>\n",
       "      <td>1</td>\n",
       "      <td>AFKZENTNBQ7A7V7UXW5JJI6UGRYQ</td>\n",
       "      <td>Livid.  Once again received an obviously used ...</td>\n",
       "    </tr>\n",
       "    <tr>\n",
       "      <th>1</th>\n",
       "      <td>B0BXDLF8TW</td>\n",
       "      <td>True</td>\n",
       "      <td>0</td>\n",
       "      <td>AFKZENTNBQ7A7V7UXW5JJI6UGRYQ</td>\n",
       "      <td>I purchased these for multiple reasons. The ma...</td>\n",
       "    </tr>\n",
       "    <tr>\n",
       "      <th>2</th>\n",
       "      <td>B09G2PW8ZG</td>\n",
       "      <td>True</td>\n",
       "      <td>0</td>\n",
       "      <td>AFKZENTNBQ7A7V7UXW5JJI6UGRYQ</td>\n",
       "      <td>[[VIDEOID:c87e962bc893a948856b0f1b285ce6cc]] I...</td>\n",
       "    </tr>\n",
       "    <tr>\n",
       "      <th>3</th>\n",
       "      <td>B08CSZDXZY</td>\n",
       "      <td>True</td>\n",
       "      <td>0</td>\n",
       "      <td>AFKZENTNBQ7A7V7UXW5JJI6UGRYQ</td>\n",
       "      <td>If you live at a higher elevation like me (5k ...</td>\n",
       "    </tr>\n",
       "    <tr>\n",
       "      <th>4</th>\n",
       "      <td>B0C6V27S6N</td>\n",
       "      <td>True</td>\n",
       "      <td>1</td>\n",
       "      <td>AFKZENTNBQ7A7V7UXW5JJI6UGRYQ</td>\n",
       "      <td>I use these to store yarn. They easily hold 12...</td>\n",
       "    </tr>\n",
       "  </tbody>\n",
       "</table>\n",
       "</div>"
      ],
      "text/plain": [
       "  parent_asin  verified_purchase  helpful_vote                       user_id  \\\n",
       "0  B09XWYG6X1               True             1  AFKZENTNBQ7A7V7UXW5JJI6UGRYQ   \n",
       "1  B0BXDLF8TW               True             0  AFKZENTNBQ7A7V7UXW5JJI6UGRYQ   \n",
       "2  B09G2PW8ZG               True             0  AFKZENTNBQ7A7V7UXW5JJI6UGRYQ   \n",
       "3  B08CSZDXZY               True             0  AFKZENTNBQ7A7V7UXW5JJI6UGRYQ   \n",
       "4  B0C6V27S6N               True             1  AFKZENTNBQ7A7V7UXW5JJI6UGRYQ   \n",
       "\n",
       "                                                text  \n",
       "0  Livid.  Once again received an obviously used ...  \n",
       "1  I purchased these for multiple reasons. The ma...  \n",
       "2  [[VIDEOID:c87e962bc893a948856b0f1b285ce6cc]] I...  \n",
       "3  If you live at a higher elevation like me (5k ...  \n",
       "4  I use these to store yarn. They easily hold 12...  "
      ]
     },
     "execution_count": 8,
     "metadata": {},
     "output_type": "execute_result"
    }
   ],
   "source": [
    "reviews_df = reviews_df[[\"parent_asin\", \"verified_purchase\", \"helpful_vote\", \"user_id\", \"text\"]]\n",
    "reviews_df.head()"
   ]
  },
  {
   "cell_type": "markdown",
   "id": "b4314a99-6657-495f-851a-bbceb6651f01",
   "metadata": {},
   "source": [
    "### Join Items Metadata DataFrame to User Reviews Train DataFrame."
   ]
  },
  {
   "cell_type": "code",
   "execution_count": 5,
   "id": "8ef4e5ed-ebc4-40e4-a9a1-628b3e7fb798",
   "metadata": {},
   "outputs": [],
   "source": [
    "reviews_with_meta_df = pd.merge(meta_df, reviews_df, left_on='parent_asin', right_on='parent_asin')"
   ]
  },
  {
   "cell_type": "markdown",
   "id": "0ae4528f-2170-470c-99bd-389b5fb79530",
   "metadata": {},
   "source": [
    "### How many reviews (rows) are there in the resulting DataFrame?"
   ]
  },
  {
   "cell_type": "code",
   "execution_count": 11,
   "id": "f9a4bf1a-7455-468c-9eaf-6b2a1c62d3e5",
   "metadata": {
    "tags": []
   },
   "outputs": [],
   "source": [
    "from google.cloud import storage\n",
    "\n",
    "\n",
    "# Specify GCS bucket and path\n",
    "bucket_name = 'amazon-home-and-kitchen'\n",
    "destination_blob_name = 'full_train_data.csv'\n",
    "\n",
    "# Save DataFrame as CSV locally first\n",
    "reviews_with_meta_df.to_csv('/tmp/full_train.csv', index=False)\n",
    "\n",
    "# Initialize a GCS client and upload wwthe file\n",
    "client = storage.Client()\n",
    "bucket = client.bucket(bucket_name)\n",
    "blob = bucket.blob(destination_blob_name)\n",
    "blob.upload_from_filename('/tmp/full_train.csv')"
   ]
  },
  {
   "cell_type": "code",
   "execution_count": 12,
   "id": "0494aeb1-36ad-4f60-a799-ed0aaf01b5a4",
   "metadata": {
    "tags": []
   },
   "outputs": [
    {
     "data": {
      "text/plain": [
       "Index(['main_category', 'title_x', 'average_rating', 'rating_number',\n",
       "       'features', 'description', 'price', 'images_x', 'videos', 'store',\n",
       "       'categories', 'details', 'parent_asin', 'bought_together', 'subtitle',\n",
       "       'author', 'rating', 'title_y', 'text', 'images_y', 'asin', 'user_id',\n",
       "       'timestamp', 'helpful_vote', 'verified_purchase'],\n",
       "      dtype='object')"
      ]
     },
     "execution_count": 12,
     "metadata": {},
     "output_type": "execute_result"
    }
   ],
   "source": [
    "reviews_with_meta_df.columns"
   ]
  },
  {
   "cell_type": "code",
   "execution_count": null,
   "id": "fb09499c-3238-4b1e-805d-8b215c81b093",
   "metadata": {
    "tags": []
   },
   "outputs": [],
   "source": [
    "len(reviews_with_meta_df)"
   ]
  },
  {
   "cell_type": "code",
   "execution_count": 10,
   "id": "edac0c92-a042-4067-927c-966d72c58cd5",
   "metadata": {
    "tags": []
   },
   "outputs": [
    {
     "name": "stdout",
     "output_type": "stream",
     "text": [
      "# rows in Amazon Home: 510915\n",
      "# rows in Tools & Home Improvement: 28429\n",
      "# rows in AMAZON FASHION: 4920\n",
      "# rows in Office Products: 4087\n",
      "# rows in Pet Supplies: 420\n",
      "# rows in Sports & Outdoors: 2705\n",
      "# rows in Health & Personal Care: 5138\n",
      "# rows in Baby: 1578\n",
      "# rows in Toys & Games: 7371\n",
      "# rows in Handmade: 1940\n",
      "# rows in Home Audio & Theater: 527\n",
      "# rows in Appliances: 2326\n",
      "# rows in Arts, Crafts & Sewing: 2430\n",
      "# rows in Cell Phones & Accessories: 666\n",
      "# rows in Industrial & Scientific: 5901\n",
      "# rows in Automotive: 738\n",
      "# rows in Grocery: 599\n",
      "# rows in All Beauty: 1391\n",
      "# rows in Computers: 222\n",
      "# rows in All Electronics: 1251\n",
      "# rows in Camera & Photo: 206\n",
      "# rows in Musical Instruments: 385\n",
      "# rows in Video Games: 43\n",
      "# rows in Car Electronics: 15\n",
      "# rows in Portable Audio & Accessories: 12\n",
      "# rows in Entertainment: 18\n",
      "# rows in Premium Beauty: 15\n",
      "# rows in Software: 19\n",
      "# rows in Amazon Devices: 2\n",
      "# rows in Collectible Coins: 4\n",
      "# rows in Books: 1\n",
      "# rows in Gift Cards: 1\n"
     ]
    }
   ],
   "source": [
    "for category in reviews_with_meta_df['main_category'].unique():\n",
    "    if category != None:\n",
    "        print('# rows in ' + category + ': ' + str(len(meta_df[meta_df['main_category'] == category])))"
   ]
  },
  {
   "cell_type": "markdown",
   "id": "4502c96f-63fe-4481-85e5-6506ca642d0f",
   "metadata": {
    "tags": []
   },
   "source": [
    "### How many unique products are there?"
   ]
  },
  {
   "cell_type": "code",
   "execution_count": 13,
   "id": "2a7b7500-3b0a-4d68-87e8-4a3cba0208e4",
   "metadata": {
    "tags": []
   },
   "outputs": [
    {
     "data": {
      "text/plain": [
       "269248"
      ]
     },
     "execution_count": 13,
     "metadata": {},
     "output_type": "execute_result"
    }
   ],
   "source": [
    "reviews_with_meta_df[\"parent_asin\"].nunique()"
   ]
  },
  {
   "cell_type": "markdown",
   "id": "f3855694-d865-4ec9-8400-84b8af9d200c",
   "metadata": {},
   "source": [
    "### How many unique reviewers are there?"
   ]
  },
  {
   "cell_type": "code",
   "execution_count": 14,
   "id": "5aaaf5b2-90ac-49b9-ace6-ea5b1096ab09",
   "metadata": {
    "tags": []
   },
   "outputs": [
    {
     "data": {
      "text/plain": [
       "697405"
      ]
     },
     "execution_count": 14,
     "metadata": {},
     "output_type": "execute_result"
    }
   ],
   "source": [
    "reviews_with_meta_df[\"user_id\"].nunique()"
   ]
  },
  {
   "cell_type": "markdown",
   "id": "35b86d1f-badc-4783-9427-5982bf29f789",
   "metadata": {},
   "source": [
    "## Preview the resulting data."
   ]
  },
  {
   "cell_type": "code",
   "execution_count": 15,
   "id": "7b874880-55f2-4ad6-89cf-4acf76031362",
   "metadata": {
    "tags": []
   },
   "outputs": [
    {
     "data": {
      "text/html": [
       "<div>\n",
       "<style scoped>\n",
       "    .dataframe tbody tr th:only-of-type {\n",
       "        vertical-align: middle;\n",
       "    }\n",
       "\n",
       "    .dataframe tbody tr th {\n",
       "        vertical-align: top;\n",
       "    }\n",
       "\n",
       "    .dataframe thead th {\n",
       "        text-align: right;\n",
       "    }\n",
       "</style>\n",
       "<table border=\"1\" class=\"dataframe\">\n",
       "  <thead>\n",
       "    <tr style=\"text-align: right;\">\n",
       "      <th></th>\n",
       "      <th>parent_asin</th>\n",
       "      <th>title</th>\n",
       "      <th>average_rating</th>\n",
       "      <th>price</th>\n",
       "      <th>verified_purchase</th>\n",
       "      <th>helpful_vote</th>\n",
       "      <th>user_id</th>\n",
       "      <th>text</th>\n",
       "    </tr>\n",
       "  </thead>\n",
       "  <tbody>\n",
       "    <tr>\n",
       "      <th>0</th>\n",
       "      <td>B00KKU8HTG</td>\n",
       "      <td>jersey seating 2 x Vinyl Air Lift Adjustable S...</td>\n",
       "      <td>4.3</td>\n",
       "      <td>None</td>\n",
       "      <td>True</td>\n",
       "      <td>0</td>\n",
       "      <td>AHED326L5JZMCI2GAXFXNKZGQKNA</td>\n",
       "      <td>nice</td>\n",
       "    </tr>\n",
       "    <tr>\n",
       "      <th>1</th>\n",
       "      <td>B00KKU8HTG</td>\n",
       "      <td>jersey seating 2 x Vinyl Air Lift Adjustable S...</td>\n",
       "      <td>4.3</td>\n",
       "      <td>None</td>\n",
       "      <td>True</td>\n",
       "      <td>0</td>\n",
       "      <td>AHROHCEEEGFMNYMMWXQCHLPBVVLQ</td>\n",
       "      <td>These chairs are beautiful bought 4 of these i...</td>\n",
       "    </tr>\n",
       "    <tr>\n",
       "      <th>2</th>\n",
       "      <td>B00KKU8HTG</td>\n",
       "      <td>jersey seating 2 x Vinyl Air Lift Adjustable S...</td>\n",
       "      <td>4.3</td>\n",
       "      <td>None</td>\n",
       "      <td>True</td>\n",
       "      <td>0</td>\n",
       "      <td>AHH4QDZVVTYKMCM7UYL7KD24GIPA</td>\n",
       "      <td>Horible build quality. The stools don't lock i...</td>\n",
       "    </tr>\n",
       "    <tr>\n",
       "      <th>3</th>\n",
       "      <td>B00KKU8HTG</td>\n",
       "      <td>jersey seating 2 x Vinyl Air Lift Adjustable S...</td>\n",
       "      <td>4.3</td>\n",
       "      <td>None</td>\n",
       "      <td>True</td>\n",
       "      <td>0</td>\n",
       "      <td>AHBDGI6TOGE33U5W6VEP55NEKC6Q</td>\n",
       "      <td>Great quality, especially for the price!&lt;br /&gt;...</td>\n",
       "    </tr>\n",
       "    <tr>\n",
       "      <th>4</th>\n",
       "      <td>B00KKU8HTG</td>\n",
       "      <td>jersey seating 2 x Vinyl Air Lift Adjustable S...</td>\n",
       "      <td>4.3</td>\n",
       "      <td>None</td>\n",
       "      <td>True</td>\n",
       "      <td>0</td>\n",
       "      <td>AHTYSHSOLY4YTIPY53BRRJ2T325Q</td>\n",
       "      <td>Great for the price! Worked perfectly for our ...</td>\n",
       "    </tr>\n",
       "    <tr>\n",
       "      <th>...</th>\n",
       "      <td>...</td>\n",
       "      <td>...</td>\n",
       "      <td>...</td>\n",
       "      <td>...</td>\n",
       "      <td>...</td>\n",
       "      <td>...</td>\n",
       "      <td>...</td>\n",
       "      <td>...</td>\n",
       "    </tr>\n",
       "    <tr>\n",
       "      <th>195</th>\n",
       "      <td>B0C4CPL2RV</td>\n",
       "      <td>Walensee Large Bathroom Rug (24 x 60, Black) E...</td>\n",
       "      <td>4.3</td>\n",
       "      <td>41.99</td>\n",
       "      <td>True</td>\n",
       "      <td>0</td>\n",
       "      <td>AGYXPCIVB5UESMNZZUZY7LIY46KA</td>\n",
       "      <td>So thick, Beautiful Bright Yellow which I love...</td>\n",
       "    </tr>\n",
       "    <tr>\n",
       "      <th>196</th>\n",
       "      <td>B0C4CPL2RV</td>\n",
       "      <td>Walensee Large Bathroom Rug (24 x 60, Black) E...</td>\n",
       "      <td>4.3</td>\n",
       "      <td>41.99</td>\n",
       "      <td>True</td>\n",
       "      <td>0</td>\n",
       "      <td>AGYXPCIVB5UESMNZZUZY7LIY46KA</td>\n",
       "      <td>So soft and such a bright yellow which is what...</td>\n",
       "    </tr>\n",
       "    <tr>\n",
       "      <th>197</th>\n",
       "      <td>B0C4CPL2RV</td>\n",
       "      <td>Walensee Large Bathroom Rug (24 x 60, Black) E...</td>\n",
       "      <td>4.3</td>\n",
       "      <td>41.99</td>\n",
       "      <td>True</td>\n",
       "      <td>0</td>\n",
       "      <td>AGTLU344CUPJDUN6GUNLGLY7M6DA</td>\n",
       "      <td>Lovely shag rug with vibrant color. Looks grea...</td>\n",
       "    </tr>\n",
       "    <tr>\n",
       "      <th>198</th>\n",
       "      <td>B0C4CPL2RV</td>\n",
       "      <td>Walensee Large Bathroom Rug (24 x 60, Black) E...</td>\n",
       "      <td>4.3</td>\n",
       "      <td>41.99</td>\n",
       "      <td>True</td>\n",
       "      <td>3</td>\n",
       "      <td>AHBEGJ5QFXMEC3AYSS2A3OVE7W5Q</td>\n",
       "      <td>This is a review of Walensee Bathroom Contour ...</td>\n",
       "    </tr>\n",
       "    <tr>\n",
       "      <th>199</th>\n",
       "      <td>B0C4CPL2RV</td>\n",
       "      <td>Walensee Large Bathroom Rug (24 x 60, Black) E...</td>\n",
       "      <td>4.3</td>\n",
       "      <td>41.99</td>\n",
       "      <td>True</td>\n",
       "      <td>0</td>\n",
       "      <td>AGMKTXWB3ML5APUGW4JVS5Z6EDHA</td>\n",
       "      <td>This is a very nice floor mat for the bathroom...</td>\n",
       "    </tr>\n",
       "  </tbody>\n",
       "</table>\n",
       "<p>200 rows × 8 columns</p>\n",
       "</div>"
      ],
      "text/plain": [
       "    parent_asin                                              title  \\\n",
       "0    B00KKU8HTG  jersey seating 2 x Vinyl Air Lift Adjustable S...   \n",
       "1    B00KKU8HTG  jersey seating 2 x Vinyl Air Lift Adjustable S...   \n",
       "2    B00KKU8HTG  jersey seating 2 x Vinyl Air Lift Adjustable S...   \n",
       "3    B00KKU8HTG  jersey seating 2 x Vinyl Air Lift Adjustable S...   \n",
       "4    B00KKU8HTG  jersey seating 2 x Vinyl Air Lift Adjustable S...   \n",
       "..          ...                                                ...   \n",
       "195  B0C4CPL2RV  Walensee Large Bathroom Rug (24 x 60, Black) E...   \n",
       "196  B0C4CPL2RV  Walensee Large Bathroom Rug (24 x 60, Black) E...   \n",
       "197  B0C4CPL2RV  Walensee Large Bathroom Rug (24 x 60, Black) E...   \n",
       "198  B0C4CPL2RV  Walensee Large Bathroom Rug (24 x 60, Black) E...   \n",
       "199  B0C4CPL2RV  Walensee Large Bathroom Rug (24 x 60, Black) E...   \n",
       "\n",
       "     average_rating  price  verified_purchase  helpful_vote  \\\n",
       "0               4.3   None               True             0   \n",
       "1               4.3   None               True             0   \n",
       "2               4.3   None               True             0   \n",
       "3               4.3   None               True             0   \n",
       "4               4.3   None               True             0   \n",
       "..              ...    ...                ...           ...   \n",
       "195             4.3  41.99               True             0   \n",
       "196             4.3  41.99               True             0   \n",
       "197             4.3  41.99               True             0   \n",
       "198             4.3  41.99               True             3   \n",
       "199             4.3  41.99               True             0   \n",
       "\n",
       "                          user_id  \\\n",
       "0    AHED326L5JZMCI2GAXFXNKZGQKNA   \n",
       "1    AHROHCEEEGFMNYMMWXQCHLPBVVLQ   \n",
       "2    AHH4QDZVVTYKMCM7UYL7KD24GIPA   \n",
       "3    AHBDGI6TOGE33U5W6VEP55NEKC6Q   \n",
       "4    AHTYSHSOLY4YTIPY53BRRJ2T325Q   \n",
       "..                            ...   \n",
       "195  AGYXPCIVB5UESMNZZUZY7LIY46KA   \n",
       "196  AGYXPCIVB5UESMNZZUZY7LIY46KA   \n",
       "197  AGTLU344CUPJDUN6GUNLGLY7M6DA   \n",
       "198  AHBEGJ5QFXMEC3AYSS2A3OVE7W5Q   \n",
       "199  AGMKTXWB3ML5APUGW4JVS5Z6EDHA   \n",
       "\n",
       "                                                  text  \n",
       "0                                                 nice  \n",
       "1    These chairs are beautiful bought 4 of these i...  \n",
       "2    Horible build quality. The stools don't lock i...  \n",
       "3    Great quality, especially for the price!<br />...  \n",
       "4    Great for the price! Worked perfectly for our ...  \n",
       "..                                                 ...  \n",
       "195  So thick, Beautiful Bright Yellow which I love...  \n",
       "196  So soft and such a bright yellow which is what...  \n",
       "197  Lovely shag rug with vibrant color. Looks grea...  \n",
       "198  This is a review of Walensee Bathroom Contour ...  \n",
       "199  This is a very nice floor mat for the bathroom...  \n",
       "\n",
       "[200 rows x 8 columns]"
      ]
     },
     "execution_count": 15,
     "metadata": {},
     "output_type": "execute_result"
    }
   ],
   "source": [
    "reviews_with_meta_df.head(200)"
   ]
  },
  {
   "cell_type": "code",
   "execution_count": null,
   "id": "6dbc968d-5225-46d9-aa23-a7f57be7f8de",
   "metadata": {},
   "outputs": [],
   "source": []
  }
 ],
 "metadata": {
  "environment": {
   "kernel": "conda-base-py",
   "name": "workbench-notebooks.m125",
   "type": "gcloud",
   "uri": "us-docker.pkg.dev/deeplearning-platform-release/gcr.io/workbench-notebooks:m125"
  },
  "kernelspec": {
   "display_name": "Python 3 (ipykernel) (Local)",
   "language": "python",
   "name": "conda-base-py"
  },
  "language_info": {
   "codemirror_mode": {
    "name": "ipython",
    "version": 3
   },
   "file_extension": ".py",
   "mimetype": "text/x-python",
   "name": "python",
   "nbconvert_exporter": "python",
   "pygments_lexer": "ipython3",
   "version": "3.10.15"
  }
 },
 "nbformat": 4,
 "nbformat_minor": 5
}
