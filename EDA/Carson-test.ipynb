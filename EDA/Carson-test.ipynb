{
 "cells": [
  {
   "cell_type": "code",
   "execution_count": 8,
   "id": "59ac634e-4db7-4aa0-87cf-dd121c80173c",
   "metadata": {},
   "outputs": [
    {
     "name": "stdout",
     "output_type": "stream",
     "text": [
      "   rating                                            title  \\\n",
      "0       1   Received Used & scratched item! Purchased new!   \n",
      "1       5         Excellent for moving & storage & floods!   \n",
      "2       2  Lid very loose- needs a gasket imo. Small base.   \n",
      "3       5                              Best purchase ever!   \n",
      "4       5                              Excellent for yarn!   \n",
      "\n",
      "                                                text  \\\n",
      "0  Livid.  Once again received an obviously used ...   \n",
      "1  I purchased these for multiple reasons. The ma...   \n",
      "2  [[VIDEOID:c87e962bc893a948856b0f1b285ce6cc]] I...   \n",
      "3  If you live at a higher elevation like me (5k ...   \n",
      "4  I use these to store yarn. They easily hold 12...   \n",
      "\n",
      "                                              images        asin parent_asin  \\\n",
      "0                                                 []  B007WQ9YNO  B09XWYG6X1   \n",
      "1                                                 []  B09H2VJW6K  B0BXDLF8TW   \n",
      "2  [{'small_image_url': 'https://m.media-amazon.c...  B07RL297VR  B09G2PW8ZG   \n",
      "3  [{'small_image_url': 'https://m.media-amazon.c...  B09CQF4SWV  B08CSZDXZY   \n",
      "4  [{'small_image_url': 'https://images-na.ssl-im...  B003U6A3EY  B0C6V27S6N   \n",
      "\n",
      "                        user_id               timestamp  helpful_vote  \\\n",
      "0  AFKZENTNBQ7A7V7UXW5JJI6UGRYQ 2023-02-26 01:03:29.298             1   \n",
      "1  AFKZENTNBQ7A7V7UXW5JJI6UGRYQ 2022-12-26 08:30:10.846             0   \n",
      "2  AFKZENTNBQ7A7V7UXW5JJI6UGRYQ 2022-05-25 02:54:56.788             0   \n",
      "3  AFKZENTNBQ7A7V7UXW5JJI6UGRYQ 2022-05-06 16:38:16.178             0   \n",
      "4  AFKZENTNBQ7A7V7UXW5JJI6UGRYQ 2020-05-20 00:28:45.940             1   \n",
      "\n",
      "   verified_purchase  \n",
      "0               True  \n",
      "1               True  \n",
      "2               True  \n",
      "3               True  \n",
      "4               True  \n"
     ]
    }
   ],
   "source": [
    "# import pandas as pd\n",
    "# import gcsfs\n",
    "\n",
    "# # Set up your GCS file path\n",
    "# gcs_file_path = 'gs://amazon-home-and-kitchen/Home_and_Kitchen_Train.jsonl'\n",
    "\n",
    "# # Initialize GCS filesystem\n",
    "# fs = gcsfs.GCSFileSystem()\n",
    "\n",
    "# # Open the file from the GCS bucket\n",
    "# with fs.open(gcs_file_path, 'r') as f:\n",
    "#     # Read the JSONL file in chunks to handle large files efficiently\n",
    "#     json_reader = pd.read_json(f, lines=True, chunksize=10000)\n",
    "    \n",
    "#     ## Optionally, you can concatenate all chunks into a single DataFrame\n",
    "#     #full_df = pd.concat(json_reader, ignore_index=True)\n",
    "\n",
    "#     for i, chunk in enumerate(json_reader):\n",
    "#         if i == 0:  # You can choose which chunk to process, e.g., the first chunk\n",
    "#             df = chunk  # This is the DataFrame for the first chunk\n",
    "#             break\n",
    "\n",
    "# # Display the first few rows of the DataFrame\n",
    "# print(df.head())\n",
    "\n",
    "# # # Now full_df contains the entire dataset\n",
    "# # print(full_df.head())"
   ]
  },
  {
   "cell_type": "code",
   "execution_count": 1,
   "id": "7b4053ec-a9e8-4915-aa72-80ece0f1cd32",
   "metadata": {},
   "outputs": [],
   "source": [
    "\n",
    "import pandas as pd\n",
    "import gcsfs\n",
    "fs = gcsfs.GCSFileSystem()\n",
    "\n",
    "path = f'gs://amazon-home-and-kitchen/full_train_data.csv'\n",
    "df = pd.read_csv(path, dtype={'average_rating': float, 'price': float}, na_values=['—'])\n",
    "#df = pd.read_csv(path)"
   ]
  },
  {
   "cell_type": "code",
   "execution_count": 2,
   "id": "cc56ed73-b344-4522-9613-26c2ecf4f956",
   "metadata": {
    "tags": []
   },
   "outputs": [
    {
     "data": {
      "text/html": [
       "<div>\n",
       "<style scoped>\n",
       "    .dataframe tbody tr th:only-of-type {\n",
       "        vertical-align: middle;\n",
       "    }\n",
       "\n",
       "    .dataframe tbody tr th {\n",
       "        vertical-align: top;\n",
       "    }\n",
       "\n",
       "    .dataframe thead th {\n",
       "        text-align: right;\n",
       "    }\n",
       "</style>\n",
       "<table border=\"1\" class=\"dataframe\">\n",
       "  <thead>\n",
       "    <tr style=\"text-align: right;\">\n",
       "      <th></th>\n",
       "      <th>parent_asin</th>\n",
       "      <th>title</th>\n",
       "      <th>average_rating</th>\n",
       "      <th>price</th>\n",
       "      <th>verified_purchase</th>\n",
       "      <th>helpful_vote</th>\n",
       "      <th>user_id</th>\n",
       "      <th>text</th>\n",
       "    </tr>\n",
       "  </thead>\n",
       "  <tbody>\n",
       "    <tr>\n",
       "      <th>0</th>\n",
       "      <td>B00KKU8HTG</td>\n",
       "      <td>jersey seating 2 x Vinyl Air Lift Adjustable S...</td>\n",
       "      <td>4.3</td>\n",
       "      <td>NaN</td>\n",
       "      <td>True</td>\n",
       "      <td>0</td>\n",
       "      <td>AHED326L5JZMCI2GAXFXNKZGQKNA</td>\n",
       "      <td>nice</td>\n",
       "    </tr>\n",
       "    <tr>\n",
       "      <th>1</th>\n",
       "      <td>B00KKU8HTG</td>\n",
       "      <td>jersey seating 2 x Vinyl Air Lift Adjustable S...</td>\n",
       "      <td>4.3</td>\n",
       "      <td>NaN</td>\n",
       "      <td>True</td>\n",
       "      <td>0</td>\n",
       "      <td>AHROHCEEEGFMNYMMWXQCHLPBVVLQ</td>\n",
       "      <td>These chairs are beautiful bought 4 of these i...</td>\n",
       "    </tr>\n",
       "    <tr>\n",
       "      <th>2</th>\n",
       "      <td>B00KKU8HTG</td>\n",
       "      <td>jersey seating 2 x Vinyl Air Lift Adjustable S...</td>\n",
       "      <td>4.3</td>\n",
       "      <td>NaN</td>\n",
       "      <td>True</td>\n",
       "      <td>0</td>\n",
       "      <td>AHH4QDZVVTYKMCM7UYL7KD24GIPA</td>\n",
       "      <td>Horible build quality. The stools don't lock i...</td>\n",
       "    </tr>\n",
       "    <tr>\n",
       "      <th>3</th>\n",
       "      <td>B00KKU8HTG</td>\n",
       "      <td>jersey seating 2 x Vinyl Air Lift Adjustable S...</td>\n",
       "      <td>4.3</td>\n",
       "      <td>NaN</td>\n",
       "      <td>True</td>\n",
       "      <td>0</td>\n",
       "      <td>AHBDGI6TOGE33U5W6VEP55NEKC6Q</td>\n",
       "      <td>Great quality, especially for the price!&lt;br /&gt;...</td>\n",
       "    </tr>\n",
       "    <tr>\n",
       "      <th>4</th>\n",
       "      <td>B00KKU8HTG</td>\n",
       "      <td>jersey seating 2 x Vinyl Air Lift Adjustable S...</td>\n",
       "      <td>4.3</td>\n",
       "      <td>NaN</td>\n",
       "      <td>True</td>\n",
       "      <td>0</td>\n",
       "      <td>AHTYSHSOLY4YTIPY53BRRJ2T325Q</td>\n",
       "      <td>Great for the price! Worked perfectly for our ...</td>\n",
       "    </tr>\n",
       "  </tbody>\n",
       "</table>\n",
       "</div>"
      ],
      "text/plain": [
       "  parent_asin                                              title  \\\n",
       "0  B00KKU8HTG  jersey seating 2 x Vinyl Air Lift Adjustable S...   \n",
       "1  B00KKU8HTG  jersey seating 2 x Vinyl Air Lift Adjustable S...   \n",
       "2  B00KKU8HTG  jersey seating 2 x Vinyl Air Lift Adjustable S...   \n",
       "3  B00KKU8HTG  jersey seating 2 x Vinyl Air Lift Adjustable S...   \n",
       "4  B00KKU8HTG  jersey seating 2 x Vinyl Air Lift Adjustable S...   \n",
       "\n",
       "   average_rating  price  verified_purchase  helpful_vote  \\\n",
       "0             4.3    NaN               True             0   \n",
       "1             4.3    NaN               True             0   \n",
       "2             4.3    NaN               True             0   \n",
       "3             4.3    NaN               True             0   \n",
       "4             4.3    NaN               True             0   \n",
       "\n",
       "                        user_id  \\\n",
       "0  AHED326L5JZMCI2GAXFXNKZGQKNA   \n",
       "1  AHROHCEEEGFMNYMMWXQCHLPBVVLQ   \n",
       "2  AHH4QDZVVTYKMCM7UYL7KD24GIPA   \n",
       "3  AHBDGI6TOGE33U5W6VEP55NEKC6Q   \n",
       "4  AHTYSHSOLY4YTIPY53BRRJ2T325Q   \n",
       "\n",
       "                                                text  \n",
       "0                                               nice  \n",
       "1  These chairs are beautiful bought 4 of these i...  \n",
       "2  Horible build quality. The stools don't lock i...  \n",
       "3  Great quality, especially for the price!<br />...  \n",
       "4  Great for the price! Worked perfectly for our ...  "
      ]
     },
     "execution_count": 2,
     "metadata": {},
     "output_type": "execute_result"
    }
   ],
   "source": [
    "df.head()"
   ]
  },
  {
   "cell_type": "code",
   "execution_count": 3,
   "id": "d519eeca-2cad-4f20-b3ef-81c472a81ff9",
   "metadata": {
    "tags": []
   },
   "outputs": [
    {
     "data": {
      "text/plain": [
       "(2658853, 8)"
      ]
     },
     "execution_count": 3,
     "metadata": {},
     "output_type": "execute_result"
    }
   ],
   "source": [
    "df.shape"
   ]
  },
  {
   "cell_type": "code",
   "execution_count": 3,
   "id": "dfe76380-5187-40b9-81ec-664490c7716f",
   "metadata": {
    "tags": []
   },
   "outputs": [],
   "source": [
    "df_sample = df.head(100000)"
   ]
  },
  {
   "cell_type": "code",
   "execution_count": 4,
   "id": "26b34fbb-6625-4bfd-bdda-aba8ffc15063",
   "metadata": {},
   "outputs": [
    {
     "name": "stderr",
     "output_type": "stream",
     "text": [
      "[nltk_data] Downloading package punkt to /home/jupyter/nltk_data...\n",
      "[nltk_data]   Package punkt is already up-to-date!\n",
      "[nltk_data] Downloading package stopwords to\n",
      "[nltk_data]     /home/jupyter/nltk_data...\n",
      "[nltk_data]   Package stopwords is already up-to-date!\n",
      "[nltk_data] Downloading package wordnet to /home/jupyter/nltk_data...\n",
      "[nltk_data]   Package wordnet is already up-to-date!\n"
     ]
    }
   ],
   "source": [
    "import pandas as pd\n",
    "import nltk\n",
    "from nltk.tokenize import word_tokenize\n",
    "from nltk.corpus import stopwords\n",
    "from nltk.stem import WordNetLemmatizer\n",
    "nltk.download('punkt')\n",
    "nltk.download('stopwords')\n",
    "nltk.download('wordnet')\n",
    "\n",
    "\n",
    "\n",
    "lemmatizer = WordNetLemmatizer()\n",
    "stop_words = set(stopwords.words('english'))\n",
    "\n",
    "# Function to preprocess reviews\n",
    "def preprocess_review(review):\n",
    "    if isinstance(review, str):  # Check if the review is a string\n",
    "        # Tokenize the review\n",
    "        tokens = word_tokenize(review.lower())  # Convert to lowercase\n",
    "        # Remove stop words and lemmatize\n",
    "        processed_tokens = [\n",
    "            lemmatizer.lemmatize(token) for token in tokens if token.isalnum() and token not in stop_words\n",
    "        ]\n",
    "        return processed_tokens\n",
    "    return [] \n",
    "\n"
   ]
  },
  {
   "cell_type": "code",
   "execution_count": 5,
   "id": "f3688033-0b28-4b95-af2c-81d407b2f60c",
   "metadata": {
    "tags": []
   },
   "outputs": [
    {
     "name": "stderr",
     "output_type": "stream",
     "text": [
      "/var/tmp/ipykernel_34338/3562895744.py:1: SettingWithCopyWarning: \n",
      "A value is trying to be set on a copy of a slice from a DataFrame.\n",
      "Try using .loc[row_indexer,col_indexer] = value instead\n",
      "\n",
      "See the caveats in the documentation: https://pandas.pydata.org/pandas-docs/stable/user_guide/indexing.html#returning-a-view-versus-a-copy\n",
      "  df_sample['processed_reviews'] = df_sample['text'].apply(preprocess_review)\n"
     ]
    }
   ],
   "source": [
    "df_sample['processed_reviews'] = df_sample['text'].apply(preprocess_review)\n",
    "\n",
    "# Display the processed DataFrame\n",
    "# print(df_sample[['text', 'processed_reviews']])"
   ]
  },
  {
   "cell_type": "code",
   "execution_count": 6,
   "id": "b9c914ba-4baa-4eb7-a418-1d9bf2e9a908",
   "metadata": {
    "tags": []
   },
   "outputs": [
    {
     "data": {
      "text/html": [
       "<div>\n",
       "<style scoped>\n",
       "    .dataframe tbody tr th:only-of-type {\n",
       "        vertical-align: middle;\n",
       "    }\n",
       "\n",
       "    .dataframe tbody tr th {\n",
       "        vertical-align: top;\n",
       "    }\n",
       "\n",
       "    .dataframe thead th {\n",
       "        text-align: right;\n",
       "    }\n",
       "</style>\n",
       "<table border=\"1\" class=\"dataframe\">\n",
       "  <thead>\n",
       "    <tr style=\"text-align: right;\">\n",
       "      <th></th>\n",
       "      <th>parent_asin</th>\n",
       "      <th>title</th>\n",
       "      <th>average_rating</th>\n",
       "      <th>price</th>\n",
       "      <th>verified_purchase</th>\n",
       "      <th>helpful_vote</th>\n",
       "      <th>user_id</th>\n",
       "      <th>text</th>\n",
       "      <th>processed_reviews</th>\n",
       "    </tr>\n",
       "  </thead>\n",
       "  <tbody>\n",
       "    <tr>\n",
       "      <th>0</th>\n",
       "      <td>B00KKU8HTG</td>\n",
       "      <td>jersey seating 2 x Vinyl Air Lift Adjustable S...</td>\n",
       "      <td>4.3</td>\n",
       "      <td>NaN</td>\n",
       "      <td>True</td>\n",
       "      <td>0</td>\n",
       "      <td>AHED326L5JZMCI2GAXFXNKZGQKNA</td>\n",
       "      <td>nice</td>\n",
       "      <td>[nice]</td>\n",
       "    </tr>\n",
       "    <tr>\n",
       "      <th>1</th>\n",
       "      <td>B00KKU8HTG</td>\n",
       "      <td>jersey seating 2 x Vinyl Air Lift Adjustable S...</td>\n",
       "      <td>4.3</td>\n",
       "      <td>NaN</td>\n",
       "      <td>True</td>\n",
       "      <td>0</td>\n",
       "      <td>AHROHCEEEGFMNYMMWXQCHLPBVVLQ</td>\n",
       "      <td>These chairs are beautiful bought 4 of these i...</td>\n",
       "      <td>[chair, beautiful, bought, 4, black, color, st...</td>\n",
       "    </tr>\n",
       "    <tr>\n",
       "      <th>2</th>\n",
       "      <td>B00KKU8HTG</td>\n",
       "      <td>jersey seating 2 x Vinyl Air Lift Adjustable S...</td>\n",
       "      <td>4.3</td>\n",
       "      <td>NaN</td>\n",
       "      <td>True</td>\n",
       "      <td>0</td>\n",
       "      <td>AHH4QDZVVTYKMCM7UYL7KD24GIPA</td>\n",
       "      <td>Horible build quality. The stools don't lock i...</td>\n",
       "      <td>[horible, build, quality, stool, lock, place, ...</td>\n",
       "    </tr>\n",
       "    <tr>\n",
       "      <th>3</th>\n",
       "      <td>B00KKU8HTG</td>\n",
       "      <td>jersey seating 2 x Vinyl Air Lift Adjustable S...</td>\n",
       "      <td>4.3</td>\n",
       "      <td>NaN</td>\n",
       "      <td>True</td>\n",
       "      <td>0</td>\n",
       "      <td>AHBDGI6TOGE33U5W6VEP55NEKC6Q</td>\n",
       "      <td>Great quality, especially for the price!&lt;br /&gt;...</td>\n",
       "      <td>[great, quality, especially, price, br, br, sw...</td>\n",
       "    </tr>\n",
       "    <tr>\n",
       "      <th>4</th>\n",
       "      <td>B00KKU8HTG</td>\n",
       "      <td>jersey seating 2 x Vinyl Air Lift Adjustable S...</td>\n",
       "      <td>4.3</td>\n",
       "      <td>NaN</td>\n",
       "      <td>True</td>\n",
       "      <td>0</td>\n",
       "      <td>AHTYSHSOLY4YTIPY53BRRJ2T325Q</td>\n",
       "      <td>Great for the price! Worked perfectly for our ...</td>\n",
       "      <td>[great, price, worked, perfectly, small, space]</td>\n",
       "    </tr>\n",
       "  </tbody>\n",
       "</table>\n",
       "</div>"
      ],
      "text/plain": [
       "  parent_asin                                              title  \\\n",
       "0  B00KKU8HTG  jersey seating 2 x Vinyl Air Lift Adjustable S...   \n",
       "1  B00KKU8HTG  jersey seating 2 x Vinyl Air Lift Adjustable S...   \n",
       "2  B00KKU8HTG  jersey seating 2 x Vinyl Air Lift Adjustable S...   \n",
       "3  B00KKU8HTG  jersey seating 2 x Vinyl Air Lift Adjustable S...   \n",
       "4  B00KKU8HTG  jersey seating 2 x Vinyl Air Lift Adjustable S...   \n",
       "\n",
       "   average_rating  price  verified_purchase  helpful_vote  \\\n",
       "0             4.3    NaN               True             0   \n",
       "1             4.3    NaN               True             0   \n",
       "2             4.3    NaN               True             0   \n",
       "3             4.3    NaN               True             0   \n",
       "4             4.3    NaN               True             0   \n",
       "\n",
       "                        user_id  \\\n",
       "0  AHED326L5JZMCI2GAXFXNKZGQKNA   \n",
       "1  AHROHCEEEGFMNYMMWXQCHLPBVVLQ   \n",
       "2  AHH4QDZVVTYKMCM7UYL7KD24GIPA   \n",
       "3  AHBDGI6TOGE33U5W6VEP55NEKC6Q   \n",
       "4  AHTYSHSOLY4YTIPY53BRRJ2T325Q   \n",
       "\n",
       "                                                text  \\\n",
       "0                                               nice   \n",
       "1  These chairs are beautiful bought 4 of these i...   \n",
       "2  Horible build quality. The stools don't lock i...   \n",
       "3  Great quality, especially for the price!<br />...   \n",
       "4  Great for the price! Worked perfectly for our ...   \n",
       "\n",
       "                                   processed_reviews  \n",
       "0                                             [nice]  \n",
       "1  [chair, beautiful, bought, 4, black, color, st...  \n",
       "2  [horible, build, quality, stool, lock, place, ...  \n",
       "3  [great, quality, especially, price, br, br, sw...  \n",
       "4    [great, price, worked, perfectly, small, space]  "
      ]
     },
     "execution_count": 6,
     "metadata": {},
     "output_type": "execute_result"
    }
   ],
   "source": [
    "df_sample.head()"
   ]
  },
  {
   "cell_type": "code",
   "execution_count": null,
   "id": "f7222693-0b76-42d9-8867-c1fbd3fed33b",
   "metadata": {
    "tags": []
   },
   "outputs": [],
   "source": [
    "df['processed_reviews'] = df['text'].apply(preprocess_review)\n",
    "\n",
    "# Display the processed DataFrame\n",
    "print(df[['text', 'processed_reviews']])"
   ]
  },
  {
   "cell_type": "code",
   "execution_count": null,
   "id": "5a53a9ed-583c-4942-9e35-2a444178ffbb",
   "metadata": {},
   "outputs": [],
   "source": [
    "from google.cloud import storage\n",
    "\n",
    "\n",
    "# Specify GCS bucket and path\n",
    "bucket_name = 'amazon-home-and-kitchen'\n",
    "destination_blob_name = 'full_train_data.csv'\n",
    "\n",
    "# Save DataFrame as CSV locally first\n",
    "reviews_with_meta_df.to_csv('/tmp/full_train.csv', index=False)\n",
    "\n",
    "# Initialize a GCS client and upload the file\n",
    "client = storage.Client()\n",
    "bucket = client.bucket(bucket_name)\n",
    "blob = bucket.blob(destination_blob_name)\n",
    "blob.upload_from_filename('/tmp/full_train.csv')"
   ]
  }
 ],
 "metadata": {
  "environment": {
   "kernel": "conda-env-team184-env-team184-env",
   "name": "workbench-notebooks.m125",
   "type": "gcloud",
   "uri": "us-docker.pkg.dev/deeplearning-platform-release/gcr.io/workbench-notebooks:m125"
  },
  "kernelspec": {
   "display_name": "team184 (Local)",
   "language": "python",
   "name": "conda-env-team184-env-team184-env"
  },
  "language_info": {
   "codemirror_mode": {
    "name": "ipython",
    "version": 3
   },
   "file_extension": ".py",
   "mimetype": "text/x-python",
   "name": "python",
   "nbconvert_exporter": "python",
   "pygments_lexer": "ipython3",
   "version": "3.10.15"
  }
 },
 "nbformat": 4,
 "nbformat_minor": 5
}
