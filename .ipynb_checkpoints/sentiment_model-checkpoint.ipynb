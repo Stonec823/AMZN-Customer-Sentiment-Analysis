{
 "cells": [
  {
   "cell_type": "markdown",
   "id": "adc8028d-da21-4360-8bd0-1db9ba4100f9",
   "metadata": {
    "tags": []
   },
   "source": [
    "# test 3 sentiment models"
   ]
  },
  {
   "cell_type": "code",
   "execution_count": 1,
   "id": "40796593-af68-4ed4-aaa1-1ad4a8a736d4",
   "metadata": {
    "tags": []
   },
   "outputs": [],
   "source": [
    "# !python -m spacy download en_core_web_sm\n",
    "# !pip install spacytextblob\n"
   ]
  },
  {
   "cell_type": "code",
   "execution_count": 2,
   "id": "344c7a56-2e3b-4ff9-a5bd-7d310eedaa7c",
   "metadata": {},
   "outputs": [
    {
     "name": "stderr",
     "output_type": "stream",
     "text": [
      "[nltk_data] Downloading package vader_lexicon to\n",
      "[nltk_data]     /home/jupyter/nltk_data...\n",
      "[nltk_data]   Package vader_lexicon is already up-to-date!\n",
      "2024-11-10 20:23:02.355498: I external/local_xla/xla/tsl/cuda/cudart_stub.cc:32] Could not find cuda drivers on your machine, GPU will not be used.\n",
      "2024-11-10 20:23:02.360099: I external/local_xla/xla/tsl/cuda/cudart_stub.cc:32] Could not find cuda drivers on your machine, GPU will not be used.\n",
      "2024-11-10 20:23:02.374239: E external/local_xla/xla/stream_executor/cuda/cuda_fft.cc:477] Unable to register cuFFT factory: Attempting to register factory for plugin cuFFT when one has already been registered\n",
      "WARNING: All log messages before absl::InitializeLog() is called are written to STDERR\n",
      "E0000 00:00:1731270182.398422  168962 cuda_dnn.cc:8310] Unable to register cuDNN factory: Attempting to register factory for plugin cuDNN when one has already been registered\n",
      "E0000 00:00:1731270182.405505  168962 cuda_blas.cc:1418] Unable to register cuBLAS factory: Attempting to register factory for plugin cuBLAS when one has already been registered\n",
      "2024-11-10 20:23:02.430278: I tensorflow/core/platform/cpu_feature_guard.cc:210] This TensorFlow binary is optimized to use available CPU instructions in performance-critical operations.\n",
      "To enable the following instructions: AVX2 FMA, in other operations, rebuild TensorFlow with the appropriate compiler flags.\n"
     ]
    }
   ],
   "source": [
    "import pandas as pd\n",
    "import gcsfs\n",
    "from textblob import TextBlob\n",
    "import nltk\n",
    "nltk.download('vader_lexicon')\n",
    "from nltk.sentiment.vader import SentimentIntensityAnalyzer\n",
    "from transformers import pipeline\n",
    "import spacy\n",
    "from spacytextblob.spacytextblob import SpacyTextBlob\n",
    "from google.cloud import storage\n",
    "\n",
    "fs = gcsfs.GCSFileSystem()\n",
    "\n",
    "path = f'gs://amazon-home-and-kitchen/full_train_data_txt_processed.csv'\n",
    "df = pd.read_csv(path, dtype={'price': float,'subtitle': str }, na_values=['—'], nrows=1000)     # ONLY READING 1000 ROWS, REMOVE FOR DATA PROCESSING STEP"
   ]
  },
  {
   "cell_type": "code",
   "execution_count": 3,
   "id": "04ee3df4-f206-41fa-8a22-4739f0aed8c8",
   "metadata": {
    "tags": []
   },
   "outputs": [],
   "source": [
    "df['processed_text'] = df['processed_text'].astype(str)"
   ]
  },
  {
   "cell_type": "code",
   "execution_count": 4,
   "id": "b0c709b1-f436-428a-8730-e4d951b1c8ca",
   "metadata": {
    "tags": []
   },
   "outputs": [],
   "source": [
    "# Apply TextBlob sentiment analysis\n",
    "df['sentiment_text_blob'] = df['processed_text'].apply(lambda text: TextBlob(text).sentiment.polarity)"
   ]
  },
  {
   "cell_type": "code",
   "execution_count": 5,
   "id": "7ce21cc3-87eb-4415-8ee9-50789613e58b",
   "metadata": {
    "tags": []
   },
   "outputs": [],
   "source": [
    "# Initialize the VADER sentiment analyzer\n",
    "sia = SentimentIntensityAnalyzer()\n",
    "\n",
    "# Apply VADER sentiment analysis\n",
    "df['sentiment_vader'] = df['processed_text'].apply(lambda text: sia.polarity_scores(text)['compound'])"
   ]
  },
  {
   "cell_type": "code",
   "execution_count": 6,
   "id": "9a15d5e7-1fcc-4648-a441-d5b6da222a76",
   "metadata": {
    "tags": []
   },
   "outputs": [
    {
     "name": "stderr",
     "output_type": "stream",
     "text": [
      "No model was supplied, defaulted to distilbert/distilbert-base-uncased-finetuned-sst-2-english and revision 714eb0f (https://huggingface.co/distilbert/distilbert-base-uncased-finetuned-sst-2-english).\n",
      "Using a pipeline without specifying a model name and revision in production is not recommended.\n",
      "2024-11-10 20:23:06.960967: E external/local_xla/xla/stream_executor/cuda/cuda_driver.cc:152] failed call to cuInit: INTERNAL: CUDA error: Failed call to cuInit: UNKNOWN ERROR (303)\n",
      "All PyTorch model weights were used when initializing TFDistilBertForSequenceClassification.\n",
      "\n",
      "All the weights of TFDistilBertForSequenceClassification were initialized from the PyTorch model.\n",
      "If your task is similar to the task the model of the checkpoint was trained on, you can already use TFDistilBertForSequenceClassification for predictions without further training.\n"
     ]
    }
   ],
   "source": [
    "# Load the sentiment-analysis pipeline\n",
    "sentiment_pipeline = pipeline(\"sentiment-analysis\")\n",
    "\n",
    "# Apply the pipeline to each entry in the column\n",
    "df['sentiment_bert'] = df['processed_text'].apply(lambda text: sentiment_pipeline(text)[0]['label'])"
   ]
  },
  {
   "cell_type": "code",
   "execution_count": 8,
   "id": "22e1cbe8-0c4d-467b-b752-dab8ae01cdd4",
   "metadata": {},
   "outputs": [
    {
     "data": {
      "text/html": [
       "<div>\n",
       "<style scoped>\n",
       "    .dataframe tbody tr th:only-of-type {\n",
       "        vertical-align: middle;\n",
       "    }\n",
       "\n",
       "    .dataframe tbody tr th {\n",
       "        vertical-align: top;\n",
       "    }\n",
       "\n",
       "    .dataframe thead th {\n",
       "        text-align: right;\n",
       "    }\n",
       "</style>\n",
       "<table border=\"1\" class=\"dataframe\">\n",
       "  <thead>\n",
       "    <tr style=\"text-align: right;\">\n",
       "      <th></th>\n",
       "      <th>main_category</th>\n",
       "      <th>title_x</th>\n",
       "      <th>average_rating</th>\n",
       "      <th>rating_number</th>\n",
       "      <th>features</th>\n",
       "      <th>description</th>\n",
       "      <th>price</th>\n",
       "      <th>images_x</th>\n",
       "      <th>videos</th>\n",
       "      <th>store</th>\n",
       "      <th>...</th>\n",
       "      <th>asin</th>\n",
       "      <th>user_id</th>\n",
       "      <th>timestamp</th>\n",
       "      <th>helpful_vote</th>\n",
       "      <th>verified_purchase</th>\n",
       "      <th>processed_text</th>\n",
       "      <th>sentiment_text_blob</th>\n",
       "      <th>sentiment_vader</th>\n",
       "      <th>sentiment_bert</th>\n",
       "      <th>sentiment_spacy</th>\n",
       "    </tr>\n",
       "  </thead>\n",
       "  <tbody>\n",
       "    <tr>\n",
       "      <th>0</th>\n",
       "      <td>Amazon Home</td>\n",
       "      <td>jersey seating 2 x Vinyl Air Lift Adjustable S...</td>\n",
       "      <td>4.3</td>\n",
       "      <td>167</td>\n",
       "      <td>['Sleek chrome metal base, seat covered in Red...</td>\n",
       "      <td>[]</td>\n",
       "      <td>NaN</td>\n",
       "      <td>[{'thumb': 'https://m.media-amazon.com/images/...</td>\n",
       "      <td>[{'title': 'Small and Stylish Barstools ', 'ur...</td>\n",
       "      <td>jersey seating®</td>\n",
       "      <td>...</td>\n",
       "      <td>B00KKU8HVE</td>\n",
       "      <td>AHED326L5JZMCI2GAXFXNKZGQKNA</td>\n",
       "      <td>2015-07-24 14:37:07.000</td>\n",
       "      <td>0</td>\n",
       "      <td>True</td>\n",
       "      <td>nice</td>\n",
       "      <td>0.600000</td>\n",
       "      <td>0.4215</td>\n",
       "      <td>POSITIVE</td>\n",
       "      <td>0.600000</td>\n",
       "    </tr>\n",
       "    <tr>\n",
       "      <th>1</th>\n",
       "      <td>Amazon Home</td>\n",
       "      <td>jersey seating 2 x Vinyl Air Lift Adjustable S...</td>\n",
       "      <td>4.3</td>\n",
       "      <td>167</td>\n",
       "      <td>['Sleek chrome metal base, seat covered in Red...</td>\n",
       "      <td>[]</td>\n",
       "      <td>NaN</td>\n",
       "      <td>[{'thumb': 'https://m.media-amazon.com/images/...</td>\n",
       "      <td>[{'title': 'Small and Stylish Barstools ', 'ur...</td>\n",
       "      <td>jersey seating®</td>\n",
       "      <td>...</td>\n",
       "      <td>B00KKU8HVE</td>\n",
       "      <td>AHROHCEEEGFMNYMMWXQCHLPBVVLQ</td>\n",
       "      <td>2016-11-24 17:43:29.000</td>\n",
       "      <td>0</td>\n",
       "      <td>True</td>\n",
       "      <td>chair beautiful bought 4 black color stylish c...</td>\n",
       "      <td>0.354762</td>\n",
       "      <td>0.9153</td>\n",
       "      <td>POSITIVE</td>\n",
       "      <td>0.354762</td>\n",
       "    </tr>\n",
       "    <tr>\n",
       "      <th>2</th>\n",
       "      <td>Amazon Home</td>\n",
       "      <td>jersey seating 2 x Vinyl Air Lift Adjustable S...</td>\n",
       "      <td>4.3</td>\n",
       "      <td>167</td>\n",
       "      <td>['Sleek chrome metal base, seat covered in Red...</td>\n",
       "      <td>[]</td>\n",
       "      <td>NaN</td>\n",
       "      <td>[{'thumb': 'https://m.media-amazon.com/images/...</td>\n",
       "      <td>[{'title': 'Small and Stylish Barstools ', 'ur...</td>\n",
       "      <td>jersey seating®</td>\n",
       "      <td>...</td>\n",
       "      <td>B00KKU8HUA</td>\n",
       "      <td>AHH4QDZVVTYKMCM7UYL7KD24GIPA</td>\n",
       "      <td>2017-02-11 08:46:16.000</td>\n",
       "      <td>0</td>\n",
       "      <td>True</td>\n",
       "      <td>horible build quality stool dont lock place si...</td>\n",
       "      <td>0.275000</td>\n",
       "      <td>-0.6369</td>\n",
       "      <td>NEGATIVE</td>\n",
       "      <td>0.275000</td>\n",
       "    </tr>\n",
       "    <tr>\n",
       "      <th>3</th>\n",
       "      <td>Amazon Home</td>\n",
       "      <td>jersey seating 2 x Vinyl Air Lift Adjustable S...</td>\n",
       "      <td>4.3</td>\n",
       "      <td>167</td>\n",
       "      <td>['Sleek chrome metal base, seat covered in Red...</td>\n",
       "      <td>[]</td>\n",
       "      <td>NaN</td>\n",
       "      <td>[{'thumb': 'https://m.media-amazon.com/images/...</td>\n",
       "      <td>[{'title': 'Small and Stylish Barstools ', 'ur...</td>\n",
       "      <td>jersey seating®</td>\n",
       "      <td>...</td>\n",
       "      <td>B00KKU8HVE</td>\n",
       "      <td>AHBDGI6TOGE33U5W6VEP55NEKC6Q</td>\n",
       "      <td>2016-12-14 02:22:24.000</td>\n",
       "      <td>0</td>\n",
       "      <td>True</td>\n",
       "      <td>great quality especially pricebr br ive swivel...</td>\n",
       "      <td>0.447917</td>\n",
       "      <td>0.9538</td>\n",
       "      <td>POSITIVE</td>\n",
       "      <td>0.447917</td>\n",
       "    </tr>\n",
       "    <tr>\n",
       "      <th>4</th>\n",
       "      <td>Amazon Home</td>\n",
       "      <td>jersey seating 2 x Vinyl Air Lift Adjustable S...</td>\n",
       "      <td>4.3</td>\n",
       "      <td>167</td>\n",
       "      <td>['Sleek chrome metal base, seat covered in Red...</td>\n",
       "      <td>[]</td>\n",
       "      <td>NaN</td>\n",
       "      <td>[{'thumb': 'https://m.media-amazon.com/images/...</td>\n",
       "      <td>[{'title': 'Small and Stylish Barstools ', 'ur...</td>\n",
       "      <td>jersey seating®</td>\n",
       "      <td>...</td>\n",
       "      <td>B00KKU8HVE</td>\n",
       "      <td>AHTYSHSOLY4YTIPY53BRRJ2T325Q</td>\n",
       "      <td>2018-07-02 01:49:55.194</td>\n",
       "      <td>0</td>\n",
       "      <td>True</td>\n",
       "      <td>great price worked perfectly small space</td>\n",
       "      <td>0.275000</td>\n",
       "      <td>0.8519</td>\n",
       "      <td>POSITIVE</td>\n",
       "      <td>0.275000</td>\n",
       "    </tr>\n",
       "  </tbody>\n",
       "</table>\n",
       "<p>5 rows × 30 columns</p>\n",
       "</div>"
      ],
      "text/plain": [
       "  main_category                                            title_x  \\\n",
       "0   Amazon Home  jersey seating 2 x Vinyl Air Lift Adjustable S...   \n",
       "1   Amazon Home  jersey seating 2 x Vinyl Air Lift Adjustable S...   \n",
       "2   Amazon Home  jersey seating 2 x Vinyl Air Lift Adjustable S...   \n",
       "3   Amazon Home  jersey seating 2 x Vinyl Air Lift Adjustable S...   \n",
       "4   Amazon Home  jersey seating 2 x Vinyl Air Lift Adjustable S...   \n",
       "\n",
       "   average_rating  rating_number  \\\n",
       "0             4.3            167   \n",
       "1             4.3            167   \n",
       "2             4.3            167   \n",
       "3             4.3            167   \n",
       "4             4.3            167   \n",
       "\n",
       "                                            features description  price  \\\n",
       "0  ['Sleek chrome metal base, seat covered in Red...          []    NaN   \n",
       "1  ['Sleek chrome metal base, seat covered in Red...          []    NaN   \n",
       "2  ['Sleek chrome metal base, seat covered in Red...          []    NaN   \n",
       "3  ['Sleek chrome metal base, seat covered in Red...          []    NaN   \n",
       "4  ['Sleek chrome metal base, seat covered in Red...          []    NaN   \n",
       "\n",
       "                                            images_x  \\\n",
       "0  [{'thumb': 'https://m.media-amazon.com/images/...   \n",
       "1  [{'thumb': 'https://m.media-amazon.com/images/...   \n",
       "2  [{'thumb': 'https://m.media-amazon.com/images/...   \n",
       "3  [{'thumb': 'https://m.media-amazon.com/images/...   \n",
       "4  [{'thumb': 'https://m.media-amazon.com/images/...   \n",
       "\n",
       "                                              videos            store  ...  \\\n",
       "0  [{'title': 'Small and Stylish Barstools ', 'ur...  jersey seating®  ...   \n",
       "1  [{'title': 'Small and Stylish Barstools ', 'ur...  jersey seating®  ...   \n",
       "2  [{'title': 'Small and Stylish Barstools ', 'ur...  jersey seating®  ...   \n",
       "3  [{'title': 'Small and Stylish Barstools ', 'ur...  jersey seating®  ...   \n",
       "4  [{'title': 'Small and Stylish Barstools ', 'ur...  jersey seating®  ...   \n",
       "\n",
       "         asin                       user_id                timestamp  \\\n",
       "0  B00KKU8HVE  AHED326L5JZMCI2GAXFXNKZGQKNA  2015-07-24 14:37:07.000   \n",
       "1  B00KKU8HVE  AHROHCEEEGFMNYMMWXQCHLPBVVLQ  2016-11-24 17:43:29.000   \n",
       "2  B00KKU8HUA  AHH4QDZVVTYKMCM7UYL7KD24GIPA  2017-02-11 08:46:16.000   \n",
       "3  B00KKU8HVE  AHBDGI6TOGE33U5W6VEP55NEKC6Q  2016-12-14 02:22:24.000   \n",
       "4  B00KKU8HVE  AHTYSHSOLY4YTIPY53BRRJ2T325Q  2018-07-02 01:49:55.194   \n",
       "\n",
       "   helpful_vote verified_purchase  \\\n",
       "0             0              True   \n",
       "1             0              True   \n",
       "2             0              True   \n",
       "3             0              True   \n",
       "4             0              True   \n",
       "\n",
       "                                      processed_text  sentiment_text_blob  \\\n",
       "0                                               nice             0.600000   \n",
       "1  chair beautiful bought 4 black color stylish c...             0.354762   \n",
       "2  horible build quality stool dont lock place si...             0.275000   \n",
       "3  great quality especially pricebr br ive swivel...             0.447917   \n",
       "4           great price worked perfectly small space             0.275000   \n",
       "\n",
       "  sentiment_vader sentiment_bert sentiment_spacy  \n",
       "0          0.4215       POSITIVE        0.600000  \n",
       "1          0.9153       POSITIVE        0.354762  \n",
       "2         -0.6369       NEGATIVE        0.275000  \n",
       "3          0.9538       POSITIVE        0.447917  \n",
       "4          0.8519       POSITIVE        0.275000  \n",
       "\n",
       "[5 rows x 30 columns]"
      ]
     },
     "execution_count": 8,
     "metadata": {},
     "output_type": "execute_result"
    }
   ],
   "source": [
    "df.head()"
   ]
  },
  {
   "cell_type": "code",
   "execution_count": 9,
   "id": "7436af10-06f3-4854-87c1-c18a6d15be3b",
   "metadata": {
    "tags": []
   },
   "outputs": [],
   "source": [
    "# Specify GCS bucket and path\n",
    "bucket_name = 'amazon-home-and-kitchen'\n",
    "destination_blob_name = 'sentiment_test_2024_11_09.csv'\n",
    "\n",
    "# Save DataFrame as CSV locally first\n",
    "df.to_csv('/tmp/sentiment_test_2024_11_09.csv', index=False)\n",
    "\n",
    "# Initialize a GCS client and upload wwthe file\n",
    "client = storage.Client()\n",
    "bucket = client.bucket(bucket_name)\n",
    "blob = bucket.blob(destination_blob_name)\n",
    "blob.upload_from_filename('/tmp/sentiment_test_2024_11_09.csv')"
   ]
  },
  {
   "cell_type": "markdown",
   "id": "ca5476ab-4b77-4b08-8a94-33a6043fad04",
   "metadata": {},
   "source": [
    "# Compare models"
   ]
  },
  {
   "cell_type": "code",
   "execution_count": 10,
   "id": "0ab8a1df-5d8c-479c-ad18-6c73cc9956e1",
   "metadata": {
    "tags": []
   },
   "outputs": [],
   "source": [
    "# import pandas as pd\n",
    "# import gcsfs\n",
    "# from textblob import TextBlob\n",
    "# import nltk\n",
    "# nltk.download('vader_lexicon')\n",
    "# from nltk.sentiment.vader import SentimentIntensityAnalyzer\n",
    "# from transformers import pipeline\n",
    "# import spacy\n",
    "# from spacytextblob.spacytextblob import SpacyTextBlob\n",
    "# from google.cloud import storage\n",
    "\n",
    "fs = gcsfs.GCSFileSystem()\n",
    "\n",
    "path = f'gs://amazon-home-and-kitchen/sentiment_test_2024_11_09.csv'\n",
    "df = pd.read_csv(path)     # ONLY READING 1000 ROWS, REMOVE FOR DATA PROCESSING STEP\n",
    "df=df[['rating', 'title_y', 'text', 'timestamp', 'helpful_vote', 'verified_purchase', 'processed_text',\n",
    "       'sentiment_text_blob', 'sentiment_vader', 'sentiment_bert']]"
   ]
  },
  {
   "cell_type": "code",
   "execution_count": 20,
   "id": "8986027c-c526-4ed0-bf98-e44a9c50a9da",
   "metadata": {
    "tags": []
   },
   "outputs": [
    {
     "name": "stdout",
     "output_type": "stream",
     "text": [
      "   rating  sentiment_text_blob  sentiment_vader\n",
      "0       1             0.003601        -0.022158\n",
      "1       2             0.029882         0.167878\n",
      "2       3             0.102977         0.376950\n",
      "3       4             0.219193         0.521452\n",
      "4       5             0.332610         0.648425\n"
     ]
    }
   ],
   "source": [
    "# Selecting only the sentiment columns for averaging\n",
    "sentiment_columns = ['sentiment_text_blob', \n",
    "                     'sentiment_vader', \n",
    "                     # 'sentiment_bert',\n",
    "                    ]\n",
    "\n",
    "# Group by 'rating' and calculate the mean for each sentiment column\n",
    "avg_sentiments = df.groupby('rating')[sentiment_columns].mean().reset_index()\n",
    "\n",
    "# Display the result\n",
    "print(avg_sentiments)\n"
   ]
  },
  {
   "cell_type": "code",
   "execution_count": 17,
   "id": "0b1ac0e1-f031-457a-ba5a-4d409beb193b",
   "metadata": {
    "tags": []
   },
   "outputs": [],
   "source": [
    "# I think this is a difference of scaling... why are spacy and text blob exact?"
   ]
  }
 ],
 "metadata": {
  "environment": {
   "kernel": "conda-env-team184-env-team184-env",
   "name": "workbench-notebooks.m125",
   "type": "gcloud",
   "uri": "us-docker.pkg.dev/deeplearning-platform-release/gcr.io/workbench-notebooks:m125"
  },
  "kernelspec": {
   "display_name": "team184 (Local)",
   "language": "python",
   "name": "conda-env-team184-env-team184-env"
  },
  "language_info": {
   "codemirror_mode": {
    "name": "ipython",
    "version": 3
   },
   "file_extension": ".py",
   "mimetype": "text/x-python",
   "name": "python",
   "nbconvert_exporter": "python",
   "pygments_lexer": "ipython3",
   "version": "3.10.15"
  }
 },
 "nbformat": 4,
 "nbformat_minor": 5
}
