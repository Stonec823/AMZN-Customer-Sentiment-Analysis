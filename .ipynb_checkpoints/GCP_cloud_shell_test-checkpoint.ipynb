{
 "cells": [
  {
   "cell_type": "markdown",
   "metadata": {},
   "source": [
    "Attempting to use GCP CloudShell in order to allow for easy management of scripts via git in partnership with this"
   ]
  },
  {
   "cell_type": "markdown",
   "metadata": {},
   "source": [
    "## Attempt to pull from GCP Bucket\n",
    "I may need to grant access individually via personal emails used in Q4H3 to this bucket"
   ]
  },
  {
   "cell_type": "code",
   "execution_count": null,
   "metadata": {
    "tags": []
   },
   "outputs": [],
   "source": [
    "from google.cloud import storage\n",
    "import pandas as pd\n",
    "from io import BytesIO\n",
    "\n",
    "# Initialize the GCS client\n",
    "storage_client = storage.Client()\n",
    "\n",
    "# Define your bucket and CSV file path\n",
    "bucket_name = 'amazon-home-and-kitchen'\n",
    "csv_file = 'board_games.csv'\n",
    "\n",
    "# Access the bucket and the blob (CSV file)\n",
    "bucket = storage_client.get_bucket(bucket_name)\n",
    "blob = bucket.blob(csv_file)\n",
    "\n",
    "# Download the CSV content as bytes\n",
    "csv_content = blob.download_as_bytes()\n",
    "\n",
    "# Load the CSV content into a pandas DataFrame directly\n",
    "df = pd.read_csv(BytesIO(csv_content))\n",
    "\n",
    "# Display the first few rows\n",
    "print(df.head())\n"
   ]
  }
 ],
 "metadata": {
  "environment": {
   "kernel": "conda-env-team184-env-team184-env",
   "name": "workbench-notebooks.m125",
   "type": "gcloud",
   "uri": "us-docker.pkg.dev/deeplearning-platform-release/gcr.io/workbench-notebooks:m125"
  },
  "kernelspec": {
   "display_name": "team184 (Local)",
   "language": "python",
   "name": "conda-env-team184-env-team184-env"
  },
  "language_info": {
   "codemirror_mode": {
    "name": "ipython",
    "version": 3
   },
   "file_extension": ".py",
   "mimetype": "text/x-python",
   "name": "python",
   "nbconvert_exporter": "python",
   "pygments_lexer": "ipython3",
   "version": "3.10.15"
  }
 },
 "nbformat": 4,
 "nbformat_minor": 4
}
