{
 "cells": [
  {
   "cell_type": "code",
   "execution_count": 3,
   "id": "db8b9ca5-5316-43c7-a021-51ee93255e35",
   "metadata": {
    "tags": []
   },
   "outputs": [
    {
     "name": "stdout",
     "output_type": "stream",
     "text": [
      "Collecting gcsfs==2023.12.1\n",
      "  Downloading gcsfs-2023.12.1-py2.py3-none-any.whl.metadata (1.6 kB)\n",
      "Collecting aiohttp!=4.0.0a0,!=4.0.0a1 (from gcsfs==2023.12.1)\n",
      "  Downloading aiohttp-3.10.10-cp310-cp310-manylinux_2_17_x86_64.manylinux2014_x86_64.whl.metadata (7.6 kB)\n",
      "Requirement already satisfied: decorator>4.1.2 in /opt/conda/envs/team184-env/lib/python3.10/site-packages (from gcsfs==2023.12.1) (5.1.1)\n",
      "Collecting fsspec==2023.12.1 (from gcsfs==2023.12.1)\n",
      "  Downloading fsspec-2023.12.1-py3-none-any.whl.metadata (6.8 kB)\n",
      "Requirement already satisfied: google-auth>=1.2 in /opt/conda/envs/team184-env/lib/python3.10/site-packages (from gcsfs==2023.12.1) (2.35.0)\n",
      "Collecting google-auth-oauthlib (from gcsfs==2023.12.1)\n",
      "  Downloading google_auth_oauthlib-1.2.1-py2.py3-none-any.whl.metadata (2.7 kB)\n",
      "Requirement already satisfied: google-cloud-storage in /opt/conda/envs/team184-env/lib/python3.10/site-packages (from gcsfs==2023.12.1) (2.18.2)\n",
      "Requirement already satisfied: requests in /opt/conda/envs/team184-env/lib/python3.10/site-packages (from gcsfs==2023.12.1) (2.32.3)\n",
      "Collecting aiohappyeyeballs>=2.3.0 (from aiohttp!=4.0.0a0,!=4.0.0a1->gcsfs==2023.12.1)\n",
      "  Downloading aiohappyeyeballs-2.4.3-py3-none-any.whl.metadata (6.1 kB)\n",
      "Collecting aiosignal>=1.1.2 (from aiohttp!=4.0.0a0,!=4.0.0a1->gcsfs==2023.12.1)\n",
      "  Downloading aiosignal-1.3.1-py3-none-any.whl.metadata (4.0 kB)\n",
      "Requirement already satisfied: attrs>=17.3.0 in /opt/conda/envs/team184-env/lib/python3.10/site-packages (from aiohttp!=4.0.0a0,!=4.0.0a1->gcsfs==2023.12.1) (24.2.0)\n",
      "Collecting frozenlist>=1.1.1 (from aiohttp!=4.0.0a0,!=4.0.0a1->gcsfs==2023.12.1)\n",
      "  Downloading frozenlist-1.4.1-cp310-cp310-manylinux_2_5_x86_64.manylinux1_x86_64.manylinux_2_17_x86_64.manylinux2014_x86_64.whl.metadata (12 kB)\n",
      "Collecting multidict<7.0,>=4.5 (from aiohttp!=4.0.0a0,!=4.0.0a1->gcsfs==2023.12.1)\n",
      "  Downloading multidict-6.1.0-cp310-cp310-manylinux_2_17_x86_64.manylinux2014_x86_64.whl.metadata (5.0 kB)\n",
      "Collecting yarl<2.0,>=1.12.0 (from aiohttp!=4.0.0a0,!=4.0.0a1->gcsfs==2023.12.1)\n",
      "  Downloading yarl-1.16.0-cp310-cp310-manylinux_2_17_x86_64.manylinux2014_x86_64.whl.metadata (63 kB)\n",
      "Collecting async-timeout<5.0,>=4.0 (from aiohttp!=4.0.0a0,!=4.0.0a1->gcsfs==2023.12.1)\n",
      "  Downloading async_timeout-4.0.3-py3-none-any.whl.metadata (4.2 kB)\n",
      "Requirement already satisfied: cachetools<6.0,>=2.0.0 in /opt/conda/envs/team184-env/lib/python3.10/site-packages (from google-auth>=1.2->gcsfs==2023.12.1) (5.5.0)\n",
      "Requirement already satisfied: pyasn1-modules>=0.2.1 in /opt/conda/envs/team184-env/lib/python3.10/site-packages (from google-auth>=1.2->gcsfs==2023.12.1) (0.4.1)\n",
      "Requirement already satisfied: rsa<5,>=3.1.4 in /opt/conda/envs/team184-env/lib/python3.10/site-packages (from google-auth>=1.2->gcsfs==2023.12.1) (4.9)\n",
      "Collecting requests-oauthlib>=0.7.0 (from google-auth-oauthlib->gcsfs==2023.12.1)\n",
      "  Downloading requests_oauthlib-2.0.0-py2.py3-none-any.whl.metadata (11 kB)\n",
      "Requirement already satisfied: google-api-core<3.0.0dev,>=2.15.0 in /opt/conda/envs/team184-env/lib/python3.10/site-packages (from google-cloud-storage->gcsfs==2023.12.1) (2.21.0)\n",
      "Requirement already satisfied: google-cloud-core<3.0dev,>=2.3.0 in /opt/conda/envs/team184-env/lib/python3.10/site-packages (from google-cloud-storage->gcsfs==2023.12.1) (2.4.1)\n",
      "Requirement already satisfied: google-resumable-media>=2.7.2 in /opt/conda/envs/team184-env/lib/python3.10/site-packages (from google-cloud-storage->gcsfs==2023.12.1) (2.7.2)\n",
      "Requirement already satisfied: google-crc32c<2.0dev,>=1.0 in /opt/conda/envs/team184-env/lib/python3.10/site-packages (from google-cloud-storage->gcsfs==2023.12.1) (1.6.0)\n",
      "Requirement already satisfied: charset-normalizer<4,>=2 in /opt/conda/envs/team184-env/lib/python3.10/site-packages (from requests->gcsfs==2023.12.1) (3.4.0)\n",
      "Requirement already satisfied: idna<4,>=2.5 in /opt/conda/envs/team184-env/lib/python3.10/site-packages (from requests->gcsfs==2023.12.1) (3.10)\n",
      "Requirement already satisfied: urllib3<3,>=1.21.1 in /opt/conda/envs/team184-env/lib/python3.10/site-packages (from requests->gcsfs==2023.12.1) (2.2.3)\n",
      "Requirement already satisfied: certifi>=2017.4.17 in /opt/conda/envs/team184-env/lib/python3.10/site-packages (from requests->gcsfs==2023.12.1) (2024.8.30)\n",
      "Requirement already satisfied: googleapis-common-protos<2.0.dev0,>=1.56.2 in /opt/conda/envs/team184-env/lib/python3.10/site-packages (from google-api-core<3.0.0dev,>=2.15.0->google-cloud-storage->gcsfs==2023.12.1) (1.65.0)\n",
      "Requirement already satisfied: protobuf!=3.20.0,!=3.20.1,!=4.21.0,!=4.21.1,!=4.21.2,!=4.21.3,!=4.21.4,!=4.21.5,<6.0.0.dev0,>=3.19.5 in /opt/conda/envs/team184-env/lib/python3.10/site-packages (from google-api-core<3.0.0dev,>=2.15.0->google-cloud-storage->gcsfs==2023.12.1) (5.28.2)\n",
      "Requirement already satisfied: proto-plus<2.0.0dev,>=1.22.3 in /opt/conda/envs/team184-env/lib/python3.10/site-packages (from google-api-core<3.0.0dev,>=2.15.0->google-cloud-storage->gcsfs==2023.12.1) (1.24.0)\n",
      "Requirement already satisfied: typing-extensions>=4.1.0 in /opt/conda/envs/team184-env/lib/python3.10/site-packages (from multidict<7.0,>=4.5->aiohttp!=4.0.0a0,!=4.0.0a1->gcsfs==2023.12.1) (4.12.2)\n",
      "Requirement already satisfied: pyasn1<0.7.0,>=0.4.6 in /opt/conda/envs/team184-env/lib/python3.10/site-packages (from pyasn1-modules>=0.2.1->google-auth>=1.2->gcsfs==2023.12.1) (0.6.1)\n",
      "Collecting oauthlib>=3.0.0 (from requests-oauthlib>=0.7.0->google-auth-oauthlib->gcsfs==2023.12.1)\n",
      "  Downloading oauthlib-3.2.2-py3-none-any.whl.metadata (7.5 kB)\n",
      "Collecting propcache>=0.2.0 (from yarl<2.0,>=1.12.0->aiohttp!=4.0.0a0,!=4.0.0a1->gcsfs==2023.12.1)\n",
      "  Downloading propcache-0.2.0-cp310-cp310-manylinux_2_17_x86_64.manylinux2014_x86_64.whl.metadata (7.7 kB)\n",
      "Downloading gcsfs-2023.12.1-py2.py3-none-any.whl (33 kB)\n",
      "Downloading fsspec-2023.12.1-py3-none-any.whl (168 kB)\n",
      "Downloading aiohttp-3.10.10-cp310-cp310-manylinux_2_17_x86_64.manylinux2014_x86_64.whl (1.2 MB)\n",
      "\u001b[2K   \u001b[90m━━━━━━━━━━━━━━━━━━━━━━━━━━━━━━━━━━━━━━━━\u001b[0m \u001b[32m1.2/1.2 MB\u001b[0m \u001b[31m27.2 MB/s\u001b[0m eta \u001b[36m0:00:00\u001b[0m\n",
      "\u001b[?25hDownloading google_auth_oauthlib-1.2.1-py2.py3-none-any.whl (24 kB)\n",
      "Downloading aiohappyeyeballs-2.4.3-py3-none-any.whl (14 kB)\n",
      "Downloading aiosignal-1.3.1-py3-none-any.whl (7.6 kB)\n",
      "Downloading async_timeout-4.0.3-py3-none-any.whl (5.7 kB)\n",
      "Downloading frozenlist-1.4.1-cp310-cp310-manylinux_2_5_x86_64.manylinux1_x86_64.manylinux_2_17_x86_64.manylinux2014_x86_64.whl (239 kB)\n",
      "Downloading multidict-6.1.0-cp310-cp310-manylinux_2_17_x86_64.manylinux2014_x86_64.whl (124 kB)\n",
      "Downloading requests_oauthlib-2.0.0-py2.py3-none-any.whl (24 kB)\n",
      "Downloading yarl-1.16.0-cp310-cp310-manylinux_2_17_x86_64.manylinux2014_x86_64.whl (318 kB)\n",
      "Downloading oauthlib-3.2.2-py3-none-any.whl (151 kB)\n",
      "Downloading propcache-0.2.0-cp310-cp310-manylinux_2_17_x86_64.manylinux2014_x86_64.whl (208 kB)\n",
      "Installing collected packages: propcache, oauthlib, multidict, fsspec, frozenlist, async-timeout, aiohappyeyeballs, yarl, requests-oauthlib, aiosignal, google-auth-oauthlib, aiohttp, gcsfs\n",
      "  Attempting uninstall: fsspec\n",
      "    Found existing installation: fsspec 2024.9.0\n",
      "    Uninstalling fsspec-2024.9.0:\n",
      "      Successfully uninstalled fsspec-2024.9.0\n",
      "Successfully installed aiohappyeyeballs-2.4.3 aiohttp-3.10.10 aiosignal-1.3.1 async-timeout-4.0.3 frozenlist-1.4.1 fsspec-2023.12.1 gcsfs-2023.12.1 google-auth-oauthlib-1.2.1 multidict-6.1.0 oauthlib-3.2.2 propcache-0.2.0 requests-oauthlib-2.0.0 yarl-1.16.0\n",
      "Note: you may need to restart the kernel to use updated packages.\n"
     ]
    }
   ],
   "source": [
    "pip install gcsfs==2023.12.1"
   ]
  },
  {
   "cell_type": "code",
   "execution_count": 8,
   "id": "59ac634e-4db7-4aa0-87cf-dd121c80173c",
   "metadata": {},
   "outputs": [
    {
     "name": "stdout",
     "output_type": "stream",
     "text": [
      "   rating                                            title  \\\n",
      "0       1   Received Used & scratched item! Purchased new!   \n",
      "1       5         Excellent for moving & storage & floods!   \n",
      "2       2  Lid very loose- needs a gasket imo. Small base.   \n",
      "3       5                              Best purchase ever!   \n",
      "4       5                              Excellent for yarn!   \n",
      "\n",
      "                                                text  \\\n",
      "0  Livid.  Once again received an obviously used ...   \n",
      "1  I purchased these for multiple reasons. The ma...   \n",
      "2  [[VIDEOID:c87e962bc893a948856b0f1b285ce6cc]] I...   \n",
      "3  If you live at a higher elevation like me (5k ...   \n",
      "4  I use these to store yarn. They easily hold 12...   \n",
      "\n",
      "                                              images        asin parent_asin  \\\n",
      "0                                                 []  B007WQ9YNO  B09XWYG6X1   \n",
      "1                                                 []  B09H2VJW6K  B0BXDLF8TW   \n",
      "2  [{'small_image_url': 'https://m.media-amazon.c...  B07RL297VR  B09G2PW8ZG   \n",
      "3  [{'small_image_url': 'https://m.media-amazon.c...  B09CQF4SWV  B08CSZDXZY   \n",
      "4  [{'small_image_url': 'https://images-na.ssl-im...  B003U6A3EY  B0C6V27S6N   \n",
      "\n",
      "                        user_id               timestamp  helpful_vote  \\\n",
      "0  AFKZENTNBQ7A7V7UXW5JJI6UGRYQ 2023-02-26 01:03:29.298             1   \n",
      "1  AFKZENTNBQ7A7V7UXW5JJI6UGRYQ 2022-12-26 08:30:10.846             0   \n",
      "2  AFKZENTNBQ7A7V7UXW5JJI6UGRYQ 2022-05-25 02:54:56.788             0   \n",
      "3  AFKZENTNBQ7A7V7UXW5JJI6UGRYQ 2022-05-06 16:38:16.178             0   \n",
      "4  AFKZENTNBQ7A7V7UXW5JJI6UGRYQ 2020-05-20 00:28:45.940             1   \n",
      "\n",
      "   verified_purchase  \n",
      "0               True  \n",
      "1               True  \n",
      "2               True  \n",
      "3               True  \n",
      "4               True  \n"
     ]
    }
   ],
   "source": [
    "import pandas as pd\n",
    "import gcsfs\n",
    "\n",
    "# Set up your GCS file path\n",
    "gcs_file_path = 'gs://amazon-home-and-kitchen/Home_and_Kitchen_Train.jsonl'\n",
    "\n",
    "# Initialize GCS filesystem\n",
    "fs = gcsfs.GCSFileSystem()\n",
    "\n",
    "# Open the file from the GCS bucket\n",
    "with fs.open(gcs_file_path, 'r') as f:\n",
    "    # Read the JSONL file in chunks to handle large files efficiently\n",
    "    json_reader = pd.read_json(f, lines=True, chunksize=10000)\n",
    "    \n",
    "    ## Optionally, you can concatenate all chunks into a single DataFrame\n",
    "    #full_df = pd.concat(json_reader, ignore_index=True)\n",
    "\n",
    "    for i, chunk in enumerate(json_reader):\n",
    "        if i == 0:  # You can choose which chunk to process, e.g., the first chunk\n",
    "            df = chunk  # This is the DataFrame for the first chunk\n",
    "            break\n",
    "\n",
    "# Display the first few rows of the DataFrame\n",
    "print(df.head())\n",
    "\n",
    "# # Now full_df contains the entire dataset\n",
    "# print(full_df.head())"
   ]
  },
  {
   "cell_type": "code",
   "execution_count": 9,
   "id": "7610c0b4-ed95-4242-a0ee-14b9616c24bf",
   "metadata": {},
   "outputs": [
    {
     "data": {
      "text/plain": [
       "(10000, 10)"
      ]
     },
     "execution_count": 9,
     "metadata": {},
     "output_type": "execute_result"
    }
   ],
   "source": [
    "df.shape"
   ]
  },
  {
   "cell_type": "code",
   "execution_count": 10,
   "id": "3056c50e-c60e-4b69-9997-e01b87d0e6f0",
   "metadata": {},
   "outputs": [
    {
     "data": {
      "text/plain": [
       "rating\n",
       "5    6821\n",
       "4    1772\n",
       "3     641\n",
       "1     512\n",
       "2     254\n",
       "Name: count, dtype: int64"
      ]
     },
     "execution_count": 10,
     "metadata": {},
     "output_type": "execute_result"
    }
   ],
   "source": [
    "#proportion of each rating\n",
    "\n",
    "df['rating'].value_counts()\n"
   ]
  },
  {
   "cell_type": "code",
   "execution_count": 12,
   "id": "71b19b9c-e7a6-4b6a-82ac-9810345e3649",
   "metadata": {
    "tags": []
   },
   "outputs": [
    {
     "data": {
      "text/plain": [
       "rating\n",
       "1    2.054688\n",
       "2    1.200787\n",
       "3    1.057722\n",
       "4    1.115124\n",
       "5    1.264917\n",
       "Name: helpful_vote, dtype: float64"
      ]
     },
     "execution_count": 12,
     "metadata": {},
     "output_type": "execute_result"
    }
   ],
   "source": [
    "#proportion of helpful reviews for each rating \n",
    "\n",
    "df.groupby('rating')['helpful_vote'].mean()"
   ]
  }
 ],
 "metadata": {
  "environment": {
   "kernel": "conda-env-team184-env-team184-env",
   "name": "workbench-notebooks.m125",
   "type": "gcloud",
   "uri": "us-docker.pkg.dev/deeplearning-platform-release/gcr.io/workbench-notebooks:m125"
  },
  "kernelspec": {
   "display_name": "team184 (Local)",
   "language": "python",
   "name": "conda-env-team184-env-team184-env"
  },
  "language_info": {
   "codemirror_mode": {
    "name": "ipython",
    "version": 3
   },
   "file_extension": ".py",
   "mimetype": "text/x-python",
   "name": "python",
   "nbconvert_exporter": "python",
   "pygments_lexer": "ipython3",
   "version": "3.10.15"
  }
 },
 "nbformat": 4,
 "nbformat_minor": 5
}
