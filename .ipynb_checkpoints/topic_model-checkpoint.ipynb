{
 "cells": [
  {
   "cell_type": "code",
   "execution_count": null,
   "id": "0e1127ed-af34-490a-a5f1-2a5797b8f271",
   "metadata": {},
   "outputs": [],
   "source": [
    "import pandas as pd\n",
    "import gcsfs\n",
    "fs = gcsfs.GCSFileSystem()\n",
    "\n",
    "path = f'gs://amazon-home-and-kitchen/full_train_data_txt_processed.csv'\n",
    "#df = pd.read_csv(path, dtype={'average_rating': float, 'price': float}, na_values=['—'])\n",
    "df = pd.read_csv(path)\n",
    "df.head()\n",
    "#df = pd.read_csv(path)"
   ]
  },
  {
   "cell_type": "code",
   "execution_count": 5,
   "id": "0f50559d-53e8-41ee-93d8-7efb97cfa0e2",
   "metadata": {
    "tags": []
   },
   "outputs": [],
   "source": [
    "df = df.dropna(subset=['processed_text'])"
   ]
  },
  {
   "cell_type": "code",
   "execution_count": 6,
   "id": "263a8709-6597-4acf-a1fc-e6a8ef1cafda",
   "metadata": {
    "tags": []
   },
   "outputs": [],
   "source": [
    "import gensim\n",
    "from gensim import corpora\n",
    "from nltk.corpus import stopwords\n",
    "from sklearn.feature_extraction.text import TfidfVectorizer\n",
    "from collections import defaultdict\n",
    "import nltk\n",
    "\n",
    "\n",
    "\n",
    "\n",
    "dictionary = corpora.Dictionary(df['processed_text'])\n",
    "corpus = [dictionary.doc2bow(text) for text in df['processed_text']]\n",
    "\n",
    "\n",
    "num_topics = 5  # Define the number of topics\n",
    "lda_model = gensim.models.LdaModel(corpus, num_topics=num_topics, id2word=dictionary, passes=10, random_state=42)\n",
    "\n",
    "# Get dominant topics for each review\n",
    "def get_dominant_topic(lda_model, bow):\n",
    "    topics = lda_model.get_document_topics(bow)\n",
    "    return sorted(topics, key=lambda x: x[1], reverse=True)[0][0]\n",
    "\n",
    "df['dominant_topic'] = [get_dominant_topic(lda_model, bow) for bow in corpus]\n",
    "\n",
    "# Aggregate topics by product\n",
    "top_topics_by_product = df.groupby('product_id')['dominant_topic'].apply(lambda x: x.value_counts().index[0]).reset_index()\n",
    "\n",
    "# Display top topics by product\n",
    "print(top_topics_by_product)"
   ]
  },
  {
   "cell_type": "code",
   "execution_count": null,
   "id": "dd9f314b-5edf-4db2-99b0-03ce867674e3",
   "metadata": {},
   "outputs": [],
   "source": []
  }
 ],
 "metadata": {
  "environment": {
   "kernel": "conda-env-team184-env-team184-env",
   "name": "workbench-notebooks.m125",
   "type": "gcloud",
   "uri": "us-docker.pkg.dev/deeplearning-platform-release/gcr.io/workbench-notebooks:m125"
  },
  "kernelspec": {
   "display_name": "team184 (Local)",
   "language": "python",
   "name": "conda-env-team184-env-team184-env"
  },
  "language_info": {
   "codemirror_mode": {
    "name": "ipython",
    "version": 3
   },
   "file_extension": ".py",
   "mimetype": "text/x-python",
   "name": "python",
   "nbconvert_exporter": "python",
   "pygments_lexer": "ipython3",
   "version": "3.10.15"
  }
 },
 "nbformat": 4,
 "nbformat_minor": 5
}
