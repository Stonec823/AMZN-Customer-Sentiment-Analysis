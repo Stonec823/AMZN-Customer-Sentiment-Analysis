{
 "cells": [
  {
   "cell_type": "markdown",
   "id": "ca90a2fa-244d-4c47-a1ca-012e1281e8ac",
   "metadata": {},
   "source": [
    "## Loading Data"
   ]
  },
  {
   "cell_type": "code",
   "execution_count": 4,
   "id": "895c8cd5-582b-4f15-b31a-0ac2be79156a",
   "metadata": {
    "tags": []
   },
   "outputs": [],
   "source": [
    "from google.cloud import storage\n",
    "import pandas as pd\n",
    "from io import BytesIO\n",
    "\n",
    "# Initialize the GCS client\n",
    "storage_client = storage.Client()\n",
    "\n",
    "# Define your bucket and JSON Lines file path\n",
    "bucket_name = 'amazon-home-and-kitchen'\n",
    "jsonl_file = 'Home_and_Kitchen_Train.jsonl'\n",
    "\n",
    "# Access the bucket and the blob (JSON Lines file)\n",
    "bucket = storage_client.get_bucket(bucket_name)\n",
    "blob = bucket.blob(jsonl_file)\n",
    "\n",
    "# Download the JSON Lines content as bytes\n",
    "jsonl_content = blob.download_as_bytes()"
   ]
  },
  {
   "cell_type": "code",
   "execution_count": 1,
   "id": "92ac1d24-0d60-434d-9788-b11975dabd0c",
   "metadata": {
    "tags": []
   },
   "outputs": [
    {
     "ename": "FileNotFoundError",
     "evalue": "[Errno 2] No such file or directory: 'gs://amazon-home-and-kitchen/Home_and_Kitchen_Train.jsonl'",
     "output_type": "error",
     "traceback": [
      "\u001b[0;31m---------------------------------------------------------------------------\u001b[0m",
      "\u001b[0;31mFileNotFoundError\u001b[0m                         Traceback (most recent call last)",
      "Cell \u001b[0;32mIn[1], line 19\u001b[0m\n\u001b[1;32m     17\u001b[0m \u001b[38;5;66;03m# Download the contents of the blob as a string and then parse it using json.loads() method\u001b[39;00m\n\u001b[1;32m     18\u001b[0m data \u001b[38;5;241m=\u001b[39m []\n\u001b[0;32m---> 19\u001b[0m \u001b[38;5;28;01mwith\u001b[39;00m \u001b[38;5;28;43mopen\u001b[39;49m\u001b[43m(\u001b[49m\u001b[38;5;124;43m'\u001b[39;49m\u001b[38;5;124;43mgs://amazon-home-and-kitchen/Home_and_Kitchen_Train.jsonl\u001b[39;49m\u001b[38;5;124;43m'\u001b[39;49m\u001b[43m,\u001b[49m\u001b[43m \u001b[49m\u001b[38;5;124;43m'\u001b[39;49m\u001b[38;5;124;43mr\u001b[39;49m\u001b[38;5;124;43m'\u001b[39;49m\u001b[43m,\u001b[49m\u001b[43m \u001b[49m\u001b[43mencoding\u001b[49m\u001b[38;5;241;43m=\u001b[39;49m\u001b[38;5;124;43m'\u001b[39;49m\u001b[38;5;124;43mutf-8\u001b[39;49m\u001b[38;5;124;43m'\u001b[39;49m\u001b[43m)\u001b[49m \u001b[38;5;28;01mas\u001b[39;00m f:\n\u001b[1;32m     20\u001b[0m     \u001b[38;5;28;01mfor\u001b[39;00m line \u001b[38;5;129;01min\u001b[39;00m f:\n\u001b[1;32m     21\u001b[0m        data\u001b[38;5;241m.\u001b[39mappend(json\u001b[38;5;241m.\u001b[39mloads(line))\n",
      "File \u001b[0;32m/opt/conda/lib/python3.10/site-packages/IPython/core/interactiveshell.py:310\u001b[0m, in \u001b[0;36m_modified_open\u001b[0;34m(file, *args, **kwargs)\u001b[0m\n\u001b[1;32m    303\u001b[0m \u001b[38;5;28;01mif\u001b[39;00m file \u001b[38;5;129;01min\u001b[39;00m {\u001b[38;5;241m0\u001b[39m, \u001b[38;5;241m1\u001b[39m, \u001b[38;5;241m2\u001b[39m}:\n\u001b[1;32m    304\u001b[0m     \u001b[38;5;28;01mraise\u001b[39;00m \u001b[38;5;167;01mValueError\u001b[39;00m(\n\u001b[1;32m    305\u001b[0m         \u001b[38;5;124mf\u001b[39m\u001b[38;5;124m\"\u001b[39m\u001b[38;5;124mIPython won\u001b[39m\u001b[38;5;124m'\u001b[39m\u001b[38;5;124mt let you open fd=\u001b[39m\u001b[38;5;132;01m{\u001b[39;00mfile\u001b[38;5;132;01m}\u001b[39;00m\u001b[38;5;124m by default \u001b[39m\u001b[38;5;124m\"\u001b[39m\n\u001b[1;32m    306\u001b[0m         \u001b[38;5;124m\"\u001b[39m\u001b[38;5;124mas it is likely to crash IPython. If you know what you are doing, \u001b[39m\u001b[38;5;124m\"\u001b[39m\n\u001b[1;32m    307\u001b[0m         \u001b[38;5;124m\"\u001b[39m\u001b[38;5;124myou can use builtins\u001b[39m\u001b[38;5;124m'\u001b[39m\u001b[38;5;124m open.\u001b[39m\u001b[38;5;124m\"\u001b[39m\n\u001b[1;32m    308\u001b[0m     )\n\u001b[0;32m--> 310\u001b[0m \u001b[38;5;28;01mreturn\u001b[39;00m \u001b[43mio_open\u001b[49m\u001b[43m(\u001b[49m\u001b[43mfile\u001b[49m\u001b[43m,\u001b[49m\u001b[43m \u001b[49m\u001b[38;5;241;43m*\u001b[39;49m\u001b[43margs\u001b[49m\u001b[43m,\u001b[49m\u001b[43m \u001b[49m\u001b[38;5;241;43m*\u001b[39;49m\u001b[38;5;241;43m*\u001b[39;49m\u001b[43mkwargs\u001b[49m\u001b[43m)\u001b[49m\n",
      "\u001b[0;31mFileNotFoundError\u001b[0m: [Errno 2] No such file or directory: 'gs://amazon-home-and-kitchen/Home_and_Kitchen_Train.jsonl'"
     ]
    }
   ],
   "source": [
    "from google.cloud import storage\n",
    "import pandas as pd\n",
    "import json\n",
    "from io import BytesIO\n",
    "\n",
    "# Initialize the GCS client\n",
    "storage_client = storage.Client()\n",
    "\n",
    "# Define your bucket and JSON Lines file path\n",
    "bucket_name = 'amazon-home-and-kitchen'\n",
    "jsonl_file = 'Home_and_Kitchen_Train.jsonl'\n",
    "\n",
    "# Access the bucket and the blob (JSON Lines file)\n",
    "bucket = storage_client.get_bucket(bucket_name)\n",
    "blob = bucket.blob(jsonl_file)\n",
    "\n",
    "# Download the contents of the blob as a string and then parse it using json.loads() method\n",
    "data = []\n",
    "with open('gs://<amazon-home-and-kitchen>/<Home_and_Kitchen_Train.jsonl>', 'r', encoding='utf-8') as f:\n",
    "    for line in f:\n",
    "       data.append(json.loads(line))\n",
    "#jsonObj = pd.read_json(path_or_buf=BytesIO(jsonl_file), lines=True)"
   ]
  },
  {
   "cell_type": "code",
   "execution_count": null,
   "id": "39fd9dd4-6e3c-4dd3-a0eb-d6d42d9035b4",
   "metadata": {},
   "outputs": [],
   "source": [
    "# Load the JSON Lines content into a pandas DataFrame directly\n",
    "df = pd.read_json(BytesIO(jsonl_content))\n",
    "\n",
    "# Display the first few rows\n",
    "print(df.head())"
   ]
  }
 ],
 "metadata": {
  "environment": {
   "kernel": "conda-base-py",
   "name": "workbench-notebooks.m125",
   "type": "gcloud",
   "uri": "us-docker.pkg.dev/deeplearning-platform-release/gcr.io/workbench-notebooks:m125"
  },
  "kernelspec": {
   "display_name": "Python 3 (ipykernel) (Local)",
   "language": "python",
   "name": "conda-base-py"
  },
  "language_info": {
   "codemirror_mode": {
    "name": "ipython",
    "version": 3
   },
   "file_extension": ".py",
   "mimetype": "text/x-python",
   "name": "python",
   "nbconvert_exporter": "python",
   "pygments_lexer": "ipython3",
   "version": "3.10.15"
  }
 },
 "nbformat": 4,
 "nbformat_minor": 5
}
