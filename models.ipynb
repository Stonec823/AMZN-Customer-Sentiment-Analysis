{
 "cells": [
  {
   "cell_type": "code",
   "execution_count": 1,
   "id": "4edfbf37-da49-4e97-acdc-458b58207b83",
   "metadata": {
    "tags": []
   },
   "outputs": [],
   "source": [
    "import pandas as pd\n",
    "import gcsfs\n",
    "import numpy as np"
   ]
  },
  {
   "cell_type": "markdown",
   "id": "afa21885-65dc-4642-ad57-3f407546b440",
   "metadata": {},
   "source": [
    "### Import processed training data"
   ]
  },
  {
   "cell_type": "code",
   "execution_count": 8,
   "id": "39d017b2-4025-4075-b3ee-00cf621cadb9",
   "metadata": {
    "tags": []
   },
   "outputs": [
    {
     "name": "stderr",
     "output_type": "stream",
     "text": [
      "/var/tmp/ipykernel_41046/2177701676.py:5: DtypeWarning: Columns (6,14) have mixed types. Specify dtype option on import or set low_memory=False.\n",
      "  reviews = pd.read_csv(path)\n"
     ]
    }
   ],
   "source": [
    "# Initialize GCS filesystem\n",
    "fs = gcsfs.GCSFileSystem()\n",
    "\n",
    "path = f'gs://amazon-home-and-kitchen/full_train_data_txt_processed.csv'\n",
    "reviews_train = pd.read_csv(path)"
   ]
  },
  {
   "cell_type": "markdown",
   "id": "db722acb-d48a-4ef2-8922-89d7dabde56a",
   "metadata": {},
   "source": [
    "### Import processed test data"
   ]
  },
  {
   "cell_type": "code",
   "execution_count": null,
   "id": "2e6c2d22-1e67-4cbb-9d07-efb3bbc64170",
   "metadata": {},
   "outputs": [],
   "source": [
    "# Initialize GCS filesystem\n",
    "fs = gcsfs.GCSFileSystem()\n",
    "\n",
    "path = f'gs://amazon-home-and-kitchen/full_train_data_txt_processed.csv'\n",
    "reviews_test = pd.read_csv(path)"
   ]
  },
  {
   "cell_type": "code",
   "execution_count": null,
   "id": "c82541bd-8f12-4b54-9b25-246c217b6522",
   "metadata": {
    "tags": []
   },
   "outputs": [],
   "source": [
    "from sklearn.feature_extraction.text import CountVectorizer, TfidfVectorizer\n",
    "\n",
    "tfidf_vec = TfidfVectorizer(min_df = 10, token_pattern = r'[a-zA-Z]+')\n",
    "X_train_bow = tfidf_vec.fit_transform(X_train) # fit train\n",
    "X_test_bow = tfidf_vec.transform(X_test) # transform test"
   ]
  },
  {
   "cell_type": "code",
   "execution_count": null,
   "id": "2387d69d-e1a7-4b72-81e2-5cf2dd21d52d",
   "metadata": {},
   "outputs": [],
   "source": [
    "from sklearn import svm\n",
    "model_svm = svm.SVC(C=8.0, kernel='linear')\n",
    "model_svm.fit(X_train_bow, y_train)"
   ]
  }
 ],
 "metadata": {
  "environment": {
   "kernel": "conda-base-py",
   "name": "workbench-notebooks.m125",
   "type": "gcloud",
   "uri": "us-docker.pkg.dev/deeplearning-platform-release/gcr.io/workbench-notebooks:m125"
  },
  "kernelspec": {
   "display_name": "Python 3 (ipykernel) (Local)",
   "language": "python",
   "name": "conda-base-py"
  },
  "language_info": {
   "codemirror_mode": {
    "name": "ipython",
    "version": 3
   },
   "file_extension": ".py",
   "mimetype": "text/x-python",
   "name": "python",
   "nbconvert_exporter": "python",
   "pygments_lexer": "ipython3",
   "version": "3.10.15"
  }
 },
 "nbformat": 4,
 "nbformat_minor": 5
}
