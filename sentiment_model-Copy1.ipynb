{
 "cells": [
  {
   "cell_type": "markdown",
   "id": "adc8028d-da21-4360-8bd0-1db9ba4100f9",
   "metadata": {
    "tags": []
   },
   "source": [
    "# Fit 3 sentiment models-\n",
    "- spacytextblob\n",
    "- bert\n",
    "- vader"
   ]
  },
  {
   "cell_type": "markdown",
   "id": "a9c6389a-5380-41dc-8f12-67c1dda1f524",
   "metadata": {
    "tags": []
   },
   "source": [
    "### Setup"
   ]
  },
  {
   "cell_type": "code",
   "execution_count": 1,
   "id": "40796593-af68-4ed4-aaa1-1ad4a8a736d4",
   "metadata": {
    "tags": []
   },
   "outputs": [],
   "source": [
    "# !python -m spacy download en_core_web_sm\n",
    "# !pip install spacytextblob\n",
    "# !pip install vaderSentiment\n",
    "# !pip install torch"
   ]
  },
  {
   "cell_type": "code",
   "execution_count": 2,
   "id": "344c7a56-2e3b-4ff9-a5bd-7d310eedaa7c",
   "metadata": {},
   "outputs": [
    {
     "name": "stderr",
     "output_type": "stream",
     "text": [
      "[nltk_data] Downloading package vader_lexicon to\n",
      "[nltk_data]     /home/jupyter/nltk_data...\n",
      "[nltk_data]   Package vader_lexicon is already up-to-date!\n",
      "2024-11-15 15:32:14.798273: E external/local_xla/xla/stream_executor/cuda/cuda_fft.cc:477] Unable to register cuFFT factory: Attempting to register factory for plugin cuFFT when one has already been registered\n",
      "WARNING: All log messages before absl::InitializeLog() is called are written to STDERR\n",
      "E0000 00:00:1731684734.825254  868684 cuda_dnn.cc:8310] Unable to register cuDNN factory: Attempting to register factory for plugin cuDNN when one has already been registered\n",
      "E0000 00:00:1731684734.833548  868684 cuda_blas.cc:1418] Unable to register cuBLAS factory: Attempting to register factory for plugin cuBLAS when one has already been registered\n",
      "2024-11-15 15:32:14.864603: I tensorflow/core/platform/cpu_feature_guard.cc:210] This TensorFlow binary is optimized to use available CPU instructions in performance-critical operations.\n",
      "To enable the following instructions: AVX2 FMA, in other operations, rebuild TensorFlow with the appropriate compiler flags.\n"
     ]
    }
   ],
   "source": [
    "import pandas as pd\n",
    "import gcsfs\n",
    "from textblob import TextBlob\n",
    "import nltk\n",
    "nltk.download('vader_lexicon')\n",
    "from nltk.sentiment.vader import SentimentIntensityAnalyzer\n",
    "from transformers import pipeline\n",
    "import spacy\n",
    "from spacytextblob.spacytextblob import SpacyTextBlob\n",
    "from google.cloud import storage\n",
    "from vaderSentiment.vaderSentiment import SentimentIntensityAnalyzer\n",
    "import tensorflow as tf\n",
    "from transformers import AutoTokenizer, TFAutoModelForSequenceClassification\n",
    "from scipy.special import softmax"
   ]
  },
  {
   "cell_type": "code",
   "execution_count": 3,
   "id": "04ee3df4-f206-41fa-8a22-4739f0aed8c8",
   "metadata": {
    "tags": []
   },
   "outputs": [],
   "source": [
    "fs = gcsfs.GCSFileSystem()\n",
    "\n",
    "path = f'gs://amazon-home-and-kitchen/full_train_data_txt_processed.csv'\n",
    "df = pd.read_csv(path, dtype={'price': float,'subtitle': str }, na_values=['—'], nrows=1000)     # ONLY READING 1000 ROWS, REMOVE FOR DATA PROCESSING STEP\n",
    "df['processed_text'] = df['processed_text'].astype(str)"
   ]
  },
  {
   "cell_type": "markdown",
   "id": "14f26304-e6e0-4675-bbfd-d036c3a020e3",
   "metadata": {
    "tags": []
   },
   "source": [
    "### Fit models"
   ]
  },
  {
   "cell_type": "code",
   "execution_count": 4,
   "id": "9a15d5e7-1fcc-4648-a441-d5b6da222a76",
   "metadata": {
    "tags": []
   },
   "outputs": [
    {
     "name": "stderr",
     "output_type": "stream",
     "text": [
      "2024-11-15 15:32:19.510552: E external/local_xla/xla/stream_executor/cuda/cuda_driver.cc:152] failed call to cuInit: INTERNAL: CUDA error: Failed call to cuInit: UNKNOWN ERROR (303)\n",
      "All model checkpoint layers were used when initializing TFBertForSequenceClassification.\n",
      "\n",
      "All the layers of TFBertForSequenceClassification were initialized from the model checkpoint at nlptown/bert-base-multilingual-uncased-sentiment.\n",
      "If your task is similar to the task the model of the checkpoint was trained on, you can already use TFBertForSequenceClassification for predictions without further training.\n"
     ]
    }
   ],
   "source": [
    "\n",
    "\n",
    "# Load pre-trained BERT model and tokenizer\n",
    "model_name = \"nlptown/bert-base-multilingual-uncased-sentiment\"\n",
    "tokenizer = AutoTokenizer.from_pretrained(model_name)\n",
    "model = TFAutoModelForSequenceClassification.from_pretrained(model_name)\n",
    "\n",
    "def get_sentiment_score(text):\n",
    "    # Tokenize and get model outputs\n",
    "    inputs = tokenizer(text, return_tensors=\"tf\", truncation=True, max_length=512)  # Changed to 'tf'\n",
    "    outputs = model(**inputs)\n",
    "    scores = outputs.logits.numpy()  # No need for .detach() with TensorFlow\n",
    "\n",
    "    # Apply softmax to get probabilities and map them to -1, 0, or 1\n",
    "    probs = softmax(scores[0])\n",
    "    sentiment_score = probs[4] - probs[0]  # High negative to high positive\n",
    "\n",
    "    return sentiment_score\n",
    "\n",
    "# Apply the function to the processed_text column\n",
    "# df['sentiment_bert'] = df['processed_text'].apply(get_sentiment_score)\n"
   ]
  },
  {
   "cell_type": "markdown",
   "id": "7c1b4b16-18ab-4b11-ac5c-a9522bb1ffd4",
   "metadata": {
    "tags": []
   },
   "source": [
    "## Bert seems the most natural fit, now lets run the whole dataset through our model"
   ]
  },
  {
   "cell_type": "code",
   "execution_count": 5,
   "id": "42b563b8-a5db-4d37-9cdc-1997663b4160",
   "metadata": {
    "tags": []
   },
   "outputs": [
    {
     "data": {
      "text/html": [
       "<div>\n",
       "<style scoped>\n",
       "    .dataframe tbody tr th:only-of-type {\n",
       "        vertical-align: middle;\n",
       "    }\n",
       "\n",
       "    .dataframe tbody tr th {\n",
       "        vertical-align: top;\n",
       "    }\n",
       "\n",
       "    .dataframe thead th {\n",
       "        text-align: right;\n",
       "    }\n",
       "</style>\n",
       "<table border=\"1\" class=\"dataframe\">\n",
       "  <thead>\n",
       "    <tr style=\"text-align: right;\">\n",
       "      <th></th>\n",
       "      <th>review_id</th>\n",
       "      <th>main_category</th>\n",
       "      <th>title_x</th>\n",
       "      <th>rating</th>\n",
       "      <th>filtered_text</th>\n",
       "      <th>topic_1</th>\n",
       "      <th>topic_2</th>\n",
       "      <th>topic_3</th>\n",
       "    </tr>\n",
       "  </thead>\n",
       "  <tbody>\n",
       "    <tr>\n",
       "      <th>0</th>\n",
       "      <td>0</td>\n",
       "      <td>Amazon Home</td>\n",
       "      <td>jersey seating 2 x Vinyl Air Lift Adjustable S...</td>\n",
       "      <td>5</td>\n",
       "      <td>nice</td>\n",
       "      <td>nice</td>\n",
       "      <td>aa</td>\n",
       "      <td>aaa</td>\n",
       "    </tr>\n",
       "    <tr>\n",
       "      <th>1</th>\n",
       "      <td>1</td>\n",
       "      <td>Amazon Home</td>\n",
       "      <td>jersey seating 2 x Vinyl Air Lift Adjustable S...</td>\n",
       "      <td>5</td>\n",
       "      <td>chair beautiful bought black color stylish con...</td>\n",
       "      <td>contemporary</td>\n",
       "      <td>stylish</td>\n",
       "      <td>solid</td>\n",
       "    </tr>\n",
       "    <tr>\n",
       "      <th>2</th>\n",
       "      <td>2</td>\n",
       "      <td>Amazon Home</td>\n",
       "      <td>jersey seating 2 x Vinyl Air Lift Adjustable S...</td>\n",
       "      <td>1</td>\n",
       "      <td>horible build quality stool dont lock place si...</td>\n",
       "      <td>sit</td>\n",
       "      <td>full</td>\n",
       "      <td>compress</td>\n",
       "    </tr>\n",
       "    <tr>\n",
       "      <th>3</th>\n",
       "      <td>3</td>\n",
       "      <td>Amazon Home</td>\n",
       "      <td>jersey seating 2 x Vinyl Air Lift Adjustable S...</td>\n",
       "      <td>5</td>\n",
       "      <td>great quality especially pricebr br ive swivel...</td>\n",
       "      <td>swivel</td>\n",
       "      <td>stool</td>\n",
       "      <td>making</td>\n",
       "    </tr>\n",
       "    <tr>\n",
       "      <th>4</th>\n",
       "      <td>4</td>\n",
       "      <td>Amazon Home</td>\n",
       "      <td>jersey seating 2 x Vinyl Air Lift Adjustable S...</td>\n",
       "      <td>5</td>\n",
       "      <td>great price worked perfectly small space</td>\n",
       "      <td>worked</td>\n",
       "      <td>space</td>\n",
       "      <td>perfectly</td>\n",
       "    </tr>\n",
       "  </tbody>\n",
       "</table>\n",
       "</div>"
      ],
      "text/plain": [
       "   review_id main_category                                            title_x  \\\n",
       "0          0   Amazon Home  jersey seating 2 x Vinyl Air Lift Adjustable S...   \n",
       "1          1   Amazon Home  jersey seating 2 x Vinyl Air Lift Adjustable S...   \n",
       "2          2   Amazon Home  jersey seating 2 x Vinyl Air Lift Adjustable S...   \n",
       "3          3   Amazon Home  jersey seating 2 x Vinyl Air Lift Adjustable S...   \n",
       "4          4   Amazon Home  jersey seating 2 x Vinyl Air Lift Adjustable S...   \n",
       "\n",
       "   rating                                      filtered_text       topic_1  \\\n",
       "0       5                                               nice          nice   \n",
       "1       5  chair beautiful bought black color stylish con...  contemporary   \n",
       "2       1  horible build quality stool dont lock place si...           sit   \n",
       "3       5  great quality especially pricebr br ive swivel...        swivel   \n",
       "4       5           great price worked perfectly small space        worked   \n",
       "\n",
       "   topic_2    topic_3  \n",
       "0       aa        aaa  \n",
       "1  stylish      solid  \n",
       "2     full   compress  \n",
       "3    stool     making  \n",
       "4    space  perfectly  "
      ]
     },
     "execution_count": 5,
     "metadata": {},
     "output_type": "execute_result"
    }
   ],
   "source": [
    "fs = gcsfs.GCSFileSystem()\n",
    "\n",
    "\n",
    "path = f'gs://amazon-home-and-kitchen/topic_2024-11-13.csv'\n",
    "df = pd.read_csv(path, dtype={'price': float,'subtitle': str }, na_values=['—'])\n",
    "df['filtered_text'] = df['filtered_text'].astype(str)\n",
    "df.head()\n"
   ]
  },
  {
   "cell_type": "markdown",
   "id": "a1fcd139-0147-49f8-88bd-d6a99f373add",
   "metadata": {},
   "source": [
    "#### Failing due to size"
   ]
  },
  {
   "cell_type": "code",
   "execution_count": 6,
   "id": "207daf18-a011-42d2-b6ec-234f7f8cc113",
   "metadata": {},
   "outputs": [
    {
     "name": "stderr",
     "output_type": "stream",
     "text": [
      "/opt/conda/envs/team184-env/lib/python3.10/site-packages/numpy/core/fromnumeric.py:59: FutureWarning: 'DataFrame.swapaxes' is deprecated and will be removed in a future version. Please use 'DataFrame.transpose' instead.\n",
      "  return bound(*args, **kwds)\n"
     ]
    },
    {
     "name": "stdout",
     "output_type": "stream",
     "text": [
      "\n",
      "Processing Batch 1...\n",
      "\n",
      "Processing Batch 2...\n",
      "\n",
      "Processing Batch 3...\n",
      "\n",
      "Processing Batch 4...\n",
      "\n",
      "Processing Batch 5...\n",
      "\n",
      "Processing Batch 6...\n",
      "\n",
      "Processing Batch 7...\n",
      "\n",
      "Processing Batch 8...\n",
      "\n",
      "Processing Batch 9...\n",
      "\n",
      "Processing Batch 10...\n",
      "\n",
      "Processing Batch 11...\n",
      "\n",
      "Processing Batch 12...\n",
      "\n",
      "Processing Batch 13...\n",
      "\n",
      "Processing Batch 14...\n",
      "\n",
      "Processing Batch 15...\n",
      "\n",
      "Processing Batch 16...\n",
      "\n",
      "Processing Batch 17...\n",
      "\n",
      "Processing Batch 18...\n",
      "\n",
      "Processing Batch 19...\n",
      "\n",
      "Processing Batch 20...\n",
      "\n",
      "Processing Batch 21...\n",
      "\n",
      "Processing Batch 22...\n",
      "\n",
      "Processing Batch 23...\n",
      "\n",
      "Processing Batch 24...\n",
      "\n",
      "Processing Batch 25...\n",
      "\n",
      "Processing Batch 26...\n",
      "\n",
      "Processing Batch 27...\n",
      "\n",
      "Processing Batch 28...\n",
      "\n",
      "Processing Batch 29...\n",
      "\n",
      "Processing Batch 30...\n",
      "\n",
      "Processing Batch 31...\n",
      "\n",
      "Processing Batch 32...\n",
      "\n",
      "Processing Batch 33...\n",
      "\n",
      "Processing Batch 34...\n",
      "\n",
      "Processing Batch 35...\n",
      "\n",
      "Processing Batch 36...\n",
      "\n",
      "Processing Batch 37...\n",
      "\n",
      "Processing Batch 38...\n",
      "\n",
      "Processing Batch 39...\n",
      "\n",
      "Processing Batch 40...\n",
      "\n",
      "Processing Batch 41...\n",
      "\n",
      "Processing Batch 42...\n",
      "\n",
      "Processing Batch 43...\n",
      "\n",
      "Processing Batch 44...\n",
      "\n",
      "Processing Batch 45...\n",
      "\n",
      "Processing Batch 46...\n",
      "\n",
      "Processing Batch 47...\n",
      "\n",
      "Processing Batch 48...\n",
      "\n",
      "Processing Batch 49...\n",
      "\n",
      "Processing Batch 50...\n",
      "\n",
      "Processing Batch 51...\n",
      "\n",
      "Processing Batch 52...\n",
      "\n",
      "Processing Batch 53...\n",
      "\n",
      "Processing Batch 54...\n",
      "\n",
      "Processing Batch 55...\n",
      "\n",
      "Processing Batch 56...\n",
      "\n",
      "Processing Batch 57...\n",
      "\n",
      "Processing Batch 58...\n",
      "\n",
      "Processing Batch 59...\n",
      "\n",
      "Processing Batch 60...\n",
      "\n",
      "Processing Batch 61...\n",
      "\n",
      "Processing Batch 62...\n",
      "\n",
      "Processing Batch 63...\n",
      "\n",
      "Processing Batch 64...\n",
      "\n",
      "Processing Batch 65...\n",
      "\n",
      "Processing Batch 66...\n",
      "\n",
      "Processing Batch 67...\n",
      "\n",
      "Processing Batch 68...\n",
      "\n",
      "Processing Batch 69...\n",
      "\n",
      "Processing Batch 70...\n",
      "\n",
      "Processing Batch 71...\n",
      "\n",
      "Processing Batch 72...\n",
      "\n",
      "Processing Batch 73...\n",
      "\n",
      "Processing Batch 74...\n",
      "\n",
      "Processing Batch 75...\n",
      "\n",
      "Processing Batch 76...\n",
      "\n",
      "Processing Batch 77...\n",
      "\n",
      "Processing Batch 78...\n",
      "\n",
      "Processing Batch 79...\n",
      "\n",
      "Processing Batch 80...\n",
      "\n",
      "Processing Batch 81...\n",
      "\n",
      "Processing Batch 82...\n",
      "\n",
      "Processing Batch 83...\n",
      "\n",
      "Processing Batch 84...\n",
      "\n",
      "Processing Batch 85...\n",
      "\n",
      "Processing Batch 86...\n",
      "\n",
      "Processing Batch 87...\n",
      "\n",
      "Processing Batch 88...\n",
      "\n",
      "Processing Batch 89...\n",
      "\n",
      "Processing Batch 90...\n",
      "\n",
      "Processing Batch 91...\n",
      "\n",
      "Processing Batch 92...\n",
      "\n",
      "Processing Batch 93...\n",
      "\n",
      "Processing Batch 94...\n",
      "\n",
      "Processing Batch 95...\n",
      "\n",
      "Processing Batch 96...\n",
      "\n",
      "Processing Batch 97...\n",
      "\n",
      "Processing Batch 98...\n",
      "\n",
      "Processing Batch 99...\n",
      "\n",
      "Processing Batch 100...\n"
     ]
    }
   ],
   "source": [
    "import numpy as np\n",
    "num_batches = 100\n",
    "\n",
    "df_batches = np.array_split(df, num_batches)\n",
    "\n",
    "# Initialize the VADER sentiment analyzer\n",
    "sia = SentimentIntensityAnalyzer()\n",
    "\n",
    "\n",
    "\n",
    "df_lst = []\n",
    "for i, batch in enumerate(df_batches):\n",
    "    print(f\"\\nProcessing Batch {i + 1}...\")\n",
    "    \n",
    "    # batch['sentiment_bert'] = batch['filtered_text'].apply(get_sentiment_score)\n",
    "    \n",
    "    batch['sentiment_vader'] = batch['filtered_text'].apply(lambda text: sia.polarity_scores(text)['compound'])\n",
    "    \n",
    "    df_lst.append(batch)\n",
    "    \n",
    "    \n",
    "concatenated_df = pd.concat(df_lst, ignore_index=True)\n"
   ]
  },
  {
   "cell_type": "code",
   "execution_count": 8,
   "id": "75900234-95fc-49fe-bf20-8fd6f060ffb6",
   "metadata": {
    "tags": []
   },
   "outputs": [],
   "source": [
    "# Specify GCS bucket and path\n",
    "bucket_name = 'amazon-home-and-kitchen'\n",
    "destination_blob_name = 'topic_2024-11-13_sentiment.csv'\n",
    "\n",
    "# Save DataFrame as CSV locally first\n",
    "concatenated_df.to_csv('/tmp/topic_2024-11-13_sentiment.csv', index=False)\n",
    "\n",
    "# Initialize a GCS client and upload the file\n",
    "client = storage.Client()\n",
    "bucket = client.bucket(bucket_name)\n",
    "blob = bucket.blob(destination_blob_name)\n",
    "blob.upload_from_filename('/tmp/topic_2024-11-13_sentiment.csv')"
   ]
  },
  {
   "cell_type": "code",
   "execution_count": 18,
   "id": "56d3e913-174c-43e2-a4d6-cb72eee71d18",
   "metadata": {
    "tags": []
   },
   "outputs": [
    {
     "data": {
      "text/plain": [
       "topic_1\n",
       "sheet            2855\n",
       "love             2096\n",
       "mattress         1429\n",
       "product          1405\n",
       "great            1343\n",
       "                 ... \n",
       "whereas             2\n",
       "issuebr             2\n",
       "laterbr             1\n",
       "funcionalidad       1\n",
       "vertically          1\n",
       "Name: count, Length: 4999, dtype: int64"
      ]
     },
     "execution_count": 18,
     "metadata": {},
     "output_type": "execute_result"
    }
   ],
   "source": [
    "concatenated_df['topic_1'].value_counts(dropna=False)"
   ]
  }
 ],
 "metadata": {
  "environment": {
   "kernel": "conda-env-team184-env-team184-env",
   "name": "workbench-notebooks.m125",
   "type": "gcloud",
   "uri": "us-docker.pkg.dev/deeplearning-platform-release/gcr.io/workbench-notebooks:m125"
  },
  "kernelspec": {
   "display_name": "team184 (Local)",
   "language": "python",
   "name": "conda-env-team184-env-team184-env"
  },
  "language_info": {
   "codemirror_mode": {
    "name": "ipython",
    "version": 3
   },
   "file_extension": ".py",
   "mimetype": "text/x-python",
   "name": "python",
   "nbconvert_exporter": "python",
   "pygments_lexer": "ipython3",
   "version": "3.10.15"
  }
 },
 "nbformat": 4,
 "nbformat_minor": 5
}
